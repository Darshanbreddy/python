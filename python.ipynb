{
  "nbformat": 4,
  "nbformat_minor": 0,
  "metadata": {
    "colab": {
      "provenance": [],
      "authorship_tag": "ABX9TyMyMQtTAHhQ1Bu6vyYKtUlI",
      "include_colab_link": true
    },
    "kernelspec": {
      "name": "python3",
      "display_name": "Python 3"
    },
    "language_info": {
      "name": "python"
    }
  },
  "cells": [
    {
      "cell_type": "markdown",
      "metadata": {
        "id": "view-in-github",
        "colab_type": "text"
      },
      "source": [
        "<a href=\"https://colab.research.google.com/github/Darshanbreddy/python/blob/main/python.ipynb\" target=\"_parent\"><img src=\"https://colab.research.google.com/assets/colab-badge.svg\" alt=\"Open In Colab\"/></a>"
      ]
    },
    {
      "cell_type": "code",
      "execution_count": 1,
      "metadata": {
        "colab": {
          "base_uri": "https://localhost:8080/"
        },
        "id": "XeHGrSDfrZKT",
        "outputId": "f0b4cefa-d6e6-40fa-fec1-54b02ea3b127"
      },
      "outputs": [
        {
          "output_type": "stream",
          "name": "stdout",
          "text": [
            "hello\n"
          ]
        }
      ],
      "source": [
        "print(\"hello\")"
      ]
    },
    {
      "cell_type": "code",
      "source": [
        "name=input(\"ENTER NAME: \")\n",
        "print(\"name is \", name)"
      ],
      "metadata": {
        "colab": {
          "base_uri": "https://localhost:8080/"
        },
        "id": "OfKmJ36krjgH",
        "outputId": "93c5759e-c21e-4167-d537-720832329054"
      },
      "execution_count": 2,
      "outputs": [
        {
          "output_type": "stream",
          "name": "stdout",
          "text": [
            "ENTER NAME: Darshan\n",
            "name is  Darshan\n"
          ]
        }
      ]
    },
    {
      "cell_type": "code",
      "source": [
        "num1=input(\"enter number\")\n",
        "num2=input(\"enter second number\")\n",
        "print(num1+num2)"
      ],
      "metadata": {
        "colab": {
          "base_uri": "https://localhost:8080/"
        },
        "id": "-wKhbRqQru-I",
        "outputId": "301139bd-044d-446d-8492-1fbfccb2668c"
      },
      "execution_count": 3,
      "outputs": [
        {
          "output_type": "stream",
          "name": "stdout",
          "text": [
            "enter number81\n",
            "enter second number81\n",
            "8181\n"
          ]
        }
      ]
    },
    {
      "cell_type": "markdown",
      "source": [
        "Type Casting"
      ],
      "metadata": {
        "id": "svULMID9sLbR"
      }
    },
    {
      "cell_type": "code",
      "source": [
        "num1=int(input(\"enter number: \"))\n",
        "num2=int(input(\"enter second number: \"))\n",
        "print(num1+num2)"
      ],
      "metadata": {
        "colab": {
          "base_uri": "https://localhost:8080/"
        },
        "id": "2z27sqUCsNoz",
        "outputId": "7604b538-ad64-4532-854f-1ba65049130d"
      },
      "execution_count": 4,
      "outputs": [
        {
          "output_type": "stream",
          "name": "stdout",
          "text": [
            "enter number: 81\n",
            "enter second number: 81\n",
            "162\n"
          ]
        }
      ]
    },
    {
      "cell_type": "markdown",
      "source": [
        "Assignment and Equality operator"
      ],
      "metadata": {
        "id": "WmmlvEx8ta7m"
      }
    },
    {
      "cell_type": "code",
      "source": [
        "# Assignment operator (=)\n",
        "x = 5\n",
        "y = 10\n",
        "print(\"x =\", x)\n",
        "print(\"y =\", y)\n",
        "\n",
        "# Equality operator (==)\n",
        "print(\"Is x equal to y?\", x == y)\n",
        "\n",
        "z = 5\n",
        "print(\"Is x equal to z?\", x == z)"
      ],
      "metadata": {
        "colab": {
          "base_uri": "https://localhost:8080/"
        },
        "id": "oTNMGOfksnJu",
        "outputId": "ad597576-fb64-4c54-dafe-2fc8889a6801"
      },
      "execution_count": 5,
      "outputs": [
        {
          "output_type": "stream",
          "name": "stdout",
          "text": [
            "x = 5\n",
            "y = 10\n",
            "Is x equal to y? False\n",
            "Is x equal to z? True\n"
          ]
        }
      ]
    },
    {
      "cell_type": "code",
      "source": [
        "# Assignment operator (=)\n",
        "a = 10\n",
        "b = 10\n",
        "\n",
        "# Equality operator (==) with if statement\n",
        "if a == b:\n",
        "    print(\"a is equal to b\")\n",
        "else:\n",
        "    print(\"a is not equal to b\")\n",
        "\n",
        "# Another example with different values\n",
        "c = 5\n",
        "d = 15\n",
        "\n",
        "if c == d:\n",
        "    print(\"c is equal to d\")\n",
        "else:\n",
        "    print(\"c is not equal to d\")"
      ],
      "metadata": {
        "colab": {
          "base_uri": "https://localhost:8080/"
        },
        "id": "HdSkCI0ctxHt",
        "outputId": "4cdca9a5-38bf-413e-ef56-fc0c749e8eb0"
      },
      "execution_count": 6,
      "outputs": [
        {
          "output_type": "stream",
          "name": "stdout",
          "text": [
            "a is equal to b\n",
            "c is not equal to d\n"
          ]
        }
      ]
    },
    {
      "cell_type": "code",
      "metadata": {
        "colab": {
          "base_uri": "https://localhost:8080/"
        },
        "id": "c933b327",
        "outputId": "1600430c-a9be-44b3-a6e5-e9fe1065d598"
      },
      "source": [
        "num1 = float(input(\"Enter the first number: \"))\n",
        "num2 = float(input(\"Enter the second number: \"))\n",
        "\n",
        "if num2 != 0:\n",
        "    print(f\"{num1} + {num2} = {num1 + num2}\")\n",
        "    print(f\"{num1} - {num2} = {num1 - num2}\")\n",
        "    print(f\"{num1} * {num2} = {num1 * num2}\")\n",
        "    print(f\"{num1} / {num2} = {num1 / num2}\")\n",
        "    print(f\"{num1} % {num2} = {num1 % num2}\")\n",
        "else:\n",
        "    print(\"Cannot perform division or modulo by zero.\")"
      ],
      "execution_count": 7,
      "outputs": [
        {
          "output_type": "stream",
          "name": "stdout",
          "text": [
            "Enter the first number: 1\n",
            "Enter the second number: 2\n",
            "1.0 + 2.0 = 3.0\n",
            "1.0 - 2.0 = -1.0\n",
            "1.0 * 2.0 = 2.0\n",
            "1.0 / 2.0 = 0.5\n",
            "1.0 % 2.0 = 1.0\n"
          ]
        }
      ]
    },
    {
      "cell_type": "code",
      "metadata": {
        "colab": {
          "base_uri": "https://localhost:8080/"
        },
        "id": "55566365",
        "outputId": "8d37e287-f756-47fd-d1fb-aa0c81039505"
      },
      "source": [
        "num1 = float(input(\"Enter first number: \"))\n",
        "num2 = float(input(\"Enter second number: \"))\n",
        "operation = input(\"Enter operation (+, -, *, /, %): \")\n",
        "\n",
        "if operation == '+':\n",
        "    print(f\"{num1} + {num2} = {num1 + num2}\")\n",
        "elif operation == '-':\n",
        "    print(f\"{num1} - {num2} = {num1 - num2}\")\n",
        "elif operation == '*':\n",
        "    print(f\"{num1} * {num2} = {num1 * num2}\")\n",
        "elif operation == '/':\n",
        "    if num2 != 0:\n",
        "        print(f\"{num1} / {num2} = {num1 / num2}\")\n",
        "    else:\n",
        "        print(\"Error: Division by zero!\")\n",
        "elif operation == '%':\n",
        "    if num2 != 0:\n",
        "        print(f\"{num1} % {num2} = {num1 % num2}\")\n",
        "    else:\n",
        "        print(\"Error: Modulo by zero!\")\n",
        "else:\n",
        "    print(\"Invalid operation.\")"
      ],
      "execution_count": 8,
      "outputs": [
        {
          "output_type": "stream",
          "name": "stdout",
          "text": [
            "Enter first number: 1\n",
            "Enter second number: 2\n",
            "Enter operation (+, -, *, /, %): %\n",
            "1.0 % 2.0 = 1.0\n"
          ]
        }
      ]
    },
    {
      "cell_type": "markdown",
      "metadata": {
        "id": "f57af6c8"
      },
      "source": [
        "### Lists\n",
        "\n",
        "Lists are a built-in data type in Python that are used to store collections of items. They are ordered, mutable (changeable), and allow duplicate values. You can create a list using square brackets `[]`."
      ]
    },
    {
      "cell_type": "code",
      "metadata": {
        "colab": {
          "base_uri": "https://localhost:8080/"
        },
        "id": "90f189ec",
        "outputId": "f4ef71fc-7984-4093-a873-dadd56351364"
      },
      "source": [
        "# Creating a list\n",
        "my_list = [1, 2, 3, 4, 5]\n",
        "print(my_list)\n",
        "\n",
        "# Lists can contain different data types\n",
        "mixed_list = [1, \"hello\", True, 3.14]\n",
        "print(mixed_list)"
      ],
      "execution_count": 9,
      "outputs": [
        {
          "output_type": "stream",
          "name": "stdout",
          "text": [
            "[1, 2, 3, 4, 5]\n",
            "[1, 'hello', True, 3.14]\n"
          ]
        }
      ]
    },
    {
      "cell_type": "markdown",
      "metadata": {
        "id": "729a6f6e"
      },
      "source": [
        "Here are some common functions and methods used with lists:\n",
        "\n",
        "*   **`len()`**: Returns the number of items in a list.\n",
        "*   **`append()`**: Adds an item to the end of the list.\n",
        "*   **`insert()`**: Inserts an item at a specified index.\n",
        "*   **`remove()`**: Removes the first occurrence of a specified value.\n",
        "*   **`pop()`**: Removes and returns the item at a specified index (or the last item if no index is specified).\n",
        "*   **`index()`**: Returns the index of the first occurrence of a specified value.\n",
        "*   **`count()`**: Returns the number of times a specified value appears in the list.\n",
        "*   **`sort()`**: Sorts the list in ascending order.\n",
        "*   **`reverse()`**: Reverses the order of the list."
      ]
    },
    {
      "cell_type": "code",
      "metadata": {
        "colab": {
          "base_uri": "https://localhost:8080/"
        },
        "id": "0a171a2f",
        "outputId": "9a12e893-320f-4ff7-dbd3-2e0e5447708a"
      },
      "source": [
        "my_list = [1, 2, 3, 4, 5]\n",
        "\n",
        "# len()\n",
        "print(\"Length of the list:\", len(my_list))\n",
        "\n",
        "# append()\n",
        "my_list.append(6)\n",
        "print(\"After append(6):\", my_list)\n",
        "\n",
        "# insert()\n",
        "my_list.insert(1, 1.5)\n",
        "print(\"After insert(1, 1.5):\", my_list)\n",
        "\n",
        "# remove()\n",
        "my_list.remove(3)\n",
        "print(\"After remove(3):\", my_list)\n",
        "\n",
        "# pop()\n",
        "popped_item = my_list.pop(2)\n",
        "print(\"Popped item at index 2:\", popped_item)\n",
        "print(\"List after pop(2):\", my_list)\n",
        "\n",
        "# index()\n",
        "print(\"Index of 4:\", my_list.index(4))\n",
        "\n",
        "# count()\n",
        "my_list.append(4)\n",
        "print(\"List after appending 4:\", my_list)\n",
        "print(\"Count of 4:\", my_list.count(4))\n",
        "\n",
        "# sort()\n",
        "unsorted_list = [5, 2, 8, 1, 4]\n",
        "unsorted_list.sort()\n",
        "print(\"After sort():\", unsorted_list)\n",
        "\n",
        "# reverse()\n",
        "unsorted_list.reverse()\n",
        "print(\"After reverse():\", unsorted_list)"
      ],
      "execution_count": 10,
      "outputs": [
        {
          "output_type": "stream",
          "name": "stdout",
          "text": [
            "Length of the list: 5\n",
            "After append(6): [1, 2, 3, 4, 5, 6]\n",
            "After insert(1, 1.5): [1, 1.5, 2, 3, 4, 5, 6]\n",
            "After remove(3): [1, 1.5, 2, 4, 5, 6]\n",
            "Popped item at index 2: 2\n",
            "List after pop(2): [1, 1.5, 4, 5, 6]\n",
            "Index of 4: 2\n",
            "List after appending 4: [1, 1.5, 4, 5, 6, 4]\n",
            "Count of 4: 2\n",
            "After sort(): [1, 2, 4, 5, 8]\n",
            "After reverse(): [8, 5, 4, 2, 1]\n"
          ]
        }
      ]
    },
    {
      "cell_type": "markdown",
      "metadata": {
        "id": "69338940"
      },
      "source": [
        "### Arrays\n",
        "\n",
        "In Python, the term \"array\" can refer to different things. The built-in `array` module provides a way to create arrays that are more memory-efficient than lists when you need to store a large number of elements of the same data type. However, for most data science and numerical tasks, the `numpy` library's arrays (ndarrays) are more commonly used and offer a wide range of functions for numerical operations."
      ]
    },
    {
      "cell_type": "markdown",
      "metadata": {
        "id": "66184aee"
      },
      "source": [
        "Let's look at `numpy` arrays as they are more prevalent in data analysis. You'll typically import numpy as `np`."
      ]
    },
    {
      "cell_type": "code",
      "metadata": {
        "colab": {
          "base_uri": "https://localhost:8080/"
        },
        "id": "5ef64beb",
        "outputId": "5f6219e1-9bb8-4c50-c020-2e3cfac35037"
      },
      "source": [
        "import numpy as np\n",
        "\n",
        "# Creating a numpy array\n",
        "my_array = np.array([1, 2, 3, 4, 5])\n",
        "print(my_array)\n",
        "\n",
        "# Creating an array of a specific data type\n",
        "int_array = np.array([1, 2, 3], dtype='int32')\n",
        "print(int_array)"
      ],
      "execution_count": 11,
      "outputs": [
        {
          "output_type": "stream",
          "name": "stdout",
          "text": [
            "[1 2 3 4 5]\n",
            "[1 2 3]\n"
          ]
        }
      ]
    },
    {
      "cell_type": "markdown",
      "metadata": {
        "id": "303ec2ea"
      },
      "source": [
        "NumPy arrays have many attributes and methods. Here are a few:\n",
        "\n",
        "*   **`shape`**: Returns a tuple representing the dimensions of the array.\n",
        "*   **`dtype`**: Returns the data type of the elements in the array.\n",
        "*   **`reshape()`**: Gives a new shape to an array without changing its data.\n",
        "*   **Mathematical operations**: NumPy arrays support element-wise mathematical operations (+, -, \\*, /, etc.).\n",
        "*   **Aggregate functions**: `sum()`, `mean()`, `max()`, `min()`, etc."
      ]
    },
    {
      "cell_type": "code",
      "metadata": {
        "colab": {
          "base_uri": "https://localhost:8080/"
        },
        "id": "2525e1c4",
        "outputId": "db736e89-0cc3-483c-dc81-f11c05ec4568"
      },
      "source": [
        "import numpy as np\n",
        "\n",
        "my_array = np.array([[1, 2, 3], [4, 5, 6]])\n",
        "print(\"Original array:\\n\", my_array)\n",
        "\n",
        "# shape\n",
        "print(\"Shape of the array:\", my_array.shape)\n",
        "\n",
        "# dtype\n",
        "print(\"Data type of the array:\", my_array.dtype)\n",
        "\n",
        "# reshape()\n",
        "reshaped_array = my_array.reshape(3, 2)\n",
        "print(\"Reshaped array:\\n\", reshaped_array)\n",
        "\n",
        "# Mathematical operations\n",
        "array1 = np.array([1, 2, 3])\n",
        "array2 = np.array([4, 5, 6])\n",
        "print(\"Addition of arrays:\", array1 + array2)\n",
        "\n",
        "# Aggregate functions\n",
        "print(\"Sum of array1:\", array1.sum())\n",
        "print(\"Mean of array2:\", array2.mean())"
      ],
      "execution_count": 12,
      "outputs": [
        {
          "output_type": "stream",
          "name": "stdout",
          "text": [
            "Original array:\n",
            " [[1 2 3]\n",
            " [4 5 6]]\n",
            "Shape of the array: (2, 3)\n",
            "Data type of the array: int64\n",
            "Reshaped array:\n",
            " [[1 2]\n",
            " [3 4]\n",
            " [5 6]]\n",
            "Addition of arrays: [5 7 9]\n",
            "Sum of array1: 6\n",
            "Mean of array2: 5.0\n"
          ]
        }
      ]
    },
    {
      "cell_type": "markdown",
      "metadata": {
        "id": "0b45e743"
      },
      "source": [
        "This is just an introduction. Both lists and NumPy arrays have many more functionalities. The choice between using a list and a NumPy array depends on your specific needs. Lists are more general-purpose, while NumPy arrays are optimized for numerical operations."
      ]
    },
    {
      "cell_type": "markdown",
      "metadata": {
        "id": "b1c177cd"
      },
      "source": [
        "### For Loops\n",
        "\n",
        "A `for` loop is used for iterating over a sequence (like a list, tuple, string, or range) or other iterable objects. It executes a block of code for each item in the sequence."
      ]
    },
    {
      "cell_type": "code",
      "metadata": {
        "colab": {
          "base_uri": "https://localhost:8080/"
        },
        "id": "458e4e25",
        "outputId": "bd8a3412-5ae9-4928-e0e8-f85fab2a9632"
      },
      "source": [
        "# Example of a for loop with a list\n",
        "fruits = [\"apple\", \"banana\", \"cherry\"]\n",
        "for fruit in fruits:\n",
        "  print(fruit)\n",
        "\n",
        "# Example of a for loop with a range\n",
        "for i in range(5):\n",
        "  print(i)"
      ],
      "execution_count": 13,
      "outputs": [
        {
          "output_type": "stream",
          "name": "stdout",
          "text": [
            "apple\n",
            "banana\n",
            "cherry\n",
            "0\n",
            "1\n",
            "2\n",
            "3\n",
            "4\n"
          ]
        }
      ]
    },
    {
      "cell_type": "markdown",
      "metadata": {
        "id": "143ecfcb"
      },
      "source": [
        "### While Loops\n",
        "\n",
        "A `while` loop is used to execute a block of code repeatedly as long as a condition is true."
      ]
    },
    {
      "cell_type": "code",
      "metadata": {
        "colab": {
          "base_uri": "https://localhost:8080/"
        },
        "id": "ac210bb0",
        "outputId": "3448c17d-a57f-4bd8-d957-c49b1c2d12f2"
      },
      "source": [
        "# Example of a while loop\n",
        "count = 0\n",
        "while count < 5:\n",
        "  print(count)\n",
        "  count += 1"
      ],
      "execution_count": 14,
      "outputs": [
        {
          "output_type": "stream",
          "name": "stdout",
          "text": [
            "0\n",
            "1\n",
            "2\n",
            "3\n",
            "4\n"
          ]
        }
      ]
    },
    {
      "cell_type": "markdown",
      "metadata": {
        "id": "439a35ab"
      },
      "source": [
        "Both loops can also use `break` to exit the loop and `continue` to skip the current iteration."
      ]
    },
    {
      "cell_type": "code",
      "metadata": {
        "colab": {
          "base_uri": "https://localhost:8080/"
        },
        "id": "583b012d",
        "outputId": "2228a101-155a-4d17-bb8f-a1da766b7486"
      },
      "source": [
        "# Example of using break in a for loop\n",
        "for i in range(10):\n",
        "  if i == 5:\n",
        "    break\n",
        "  print(i)\n",
        "\n",
        "# Example of using continue in a while loop\n",
        "count = 0\n",
        "while count < 10:\n",
        "  count += 1\n",
        "  if count % 2 == 0:\n",
        "    continue\n",
        "  print(count)"
      ],
      "execution_count": 15,
      "outputs": [
        {
          "output_type": "stream",
          "name": "stdout",
          "text": [
            "0\n",
            "1\n",
            "2\n",
            "3\n",
            "4\n",
            "1\n",
            "3\n",
            "5\n",
            "7\n",
            "9\n"
          ]
        }
      ]
    },
    {
      "cell_type": "markdown",
      "metadata": {
        "id": "976879fb"
      },
      "source": [
        "Let's define a function called `calculate` that will perform the calculator operations. This function will take three arguments: the first number, the second number, and the operation as a string."
      ]
    },
    {
      "cell_type": "code",
      "metadata": {
        "colab": {
          "base_uri": "https://localhost:8080/"
        },
        "id": "c81eec31",
        "outputId": "725203d7-42ce-47e7-ef5a-4604916339d0"
      },
      "source": [
        "def calculate(num1, num2, operation):\n",
        "  \"\"\"Performs a calculation based on the provided numbers and operation.\"\"\"\n",
        "  if operation == '+':\n",
        "    return num1 + num2\n",
        "  elif operation == '-':\n",
        "    return num1 - num2\n",
        "  elif operation == '*':\n",
        "    return num1 * num2\n",
        "  elif operation == '/':\n",
        "    if num2 == 0:\n",
        "      return \"Error: Cannot divide by zero!\"\n",
        "    return num1 / num2\n",
        "  elif operation == '%':\n",
        "    if num2 == 0:\n",
        "      return \"Error: Cannot perform modulo by zero!\"\n",
        "    return num1 % num2\n",
        "  else:\n",
        "    return \"Invalid operation.\"\n",
        "\n",
        "# Example of how to use the function:\n",
        "result = calculate(10, 5, '+')\n",
        "print(f\"10 + 5 = {result}\")\n",
        "\n",
        "result = calculate(20, 4, '/')\n",
        "print(f\"20 / 4 = {result}\")\n",
        "\n",
        "result = calculate(7, 0, '/')\n",
        "print(f\"7 / 0 = {result}\")"
      ],
      "execution_count": 16,
      "outputs": [
        {
          "output_type": "stream",
          "name": "stdout",
          "text": [
            "10 + 5 = 15\n",
            "20 / 4 = 5.0\n",
            "7 / 0 = Error: Cannot divide by zero!\n"
          ]
        }
      ]
    },
    {
      "cell_type": "markdown",
      "metadata": {
        "id": "0f672a42"
      },
      "source": [
        "**Explanation:**\n",
        "\n",
        "*   We define the function `calculate` that accepts `num1`, `num2`, and `operation` as parameters.\n",
        "*   Inside the function, we use `if-elif-else` statements to check the value of the `operation` parameter.\n",
        "*   Based on the operation, the corresponding arithmetic calculation is performed.\n",
        "*   For division and modulo, we include a check to prevent division by zero.\n",
        "*   The function returns the result of the calculation or an error message if the operation is invalid or division by zero occurs.\n",
        "*   We then show examples of how to call the function with different numbers and operations and print the results."
      ]
    },
    {
      "cell_type": "markdown",
      "source": [
        "Day 2 begins from here\n"
      ],
      "metadata": {
        "id": "YDMUaWPC6xDG"
      }
    },
    {
      "cell_type": "code",
      "source": [],
      "metadata": {
        "id": "P7jr44pG61H_"
      },
      "execution_count": 16,
      "outputs": []
    },
    {
      "cell_type": "markdown",
      "metadata": {
        "id": "7b2aa1d0"
      },
      "source": [
        "### Data Manipulation with Lists\n",
        "\n",
        "Lists are versatile and can be manipulated in various ways. Here are some common data manipulation techniques using lists:"
      ]
    },
    {
      "cell_type": "code",
      "metadata": {
        "colab": {
          "base_uri": "https://localhost:8080/"
        },
        "id": "712e9548",
        "outputId": "fee587c9-6ce0-49d9-b9c5-4f6d5203f4f9"
      },
      "source": [
        "# Original list\n",
        "numbers = [1, 2, 3, 4, 5, 6, 7, 8, 9, 10]\n",
        "print(\"Original list:\", numbers)\n",
        "\n",
        "# Slicing: Getting a portion of the list\n",
        "subset = numbers[2:6]  # Elements from index 2 up to (but not including) index 6\n",
        "print(\"Subset (index 2 to 5):\", subset)\n",
        "\n",
        "# Slicing with step\n",
        "every_other = numbers[::2] # Every other element\n",
        "print(\"Every other element:\", every_other)\n",
        "\n",
        "# Reversing a list using slicing\n",
        "reversed_numbers = numbers[::-1]\n",
        "print(\"Reversed list:\", reversed_numbers)\n",
        "\n",
        "# Modifying elements\n",
        "numbers[0] = 100\n",
        "print(\"List after modifying the first element:\", numbers)\n",
        "\n",
        "# Adding elements (using append and insert - already covered)\n",
        "# Removing elements (using remove and pop - already covered)\n",
        "\n",
        "# List concatenation\n",
        "list1 = [1, 2, 3]\n",
        "list2 = [4, 5, 6]\n",
        "combined_list = list1 + list2\n",
        "print(\"Combined list:\", combined_list)\n",
        "\n",
        "# List repetition\n",
        "repeated_list = [0] * 5\n",
        "print(\"Repeated list:\", repeated_list)\n",
        "\n",
        "# Checking if an element exists in a list\n",
        "print(\"Is 5 in the list?\", 5 in numbers)\n",
        "print(\"Is 1000 in the list?\", 1000 in numbers)"
      ],
      "execution_count": 17,
      "outputs": [
        {
          "output_type": "stream",
          "name": "stdout",
          "text": [
            "Original list: [1, 2, 3, 4, 5, 6, 7, 8, 9, 10]\n",
            "Subset (index 2 to 5): [3, 4, 5, 6]\n",
            "Every other element: [1, 3, 5, 7, 9]\n",
            "Reversed list: [10, 9, 8, 7, 6, 5, 4, 3, 2, 1]\n",
            "List after modifying the first element: [100, 2, 3, 4, 5, 6, 7, 8, 9, 10]\n",
            "Combined list: [1, 2, 3, 4, 5, 6]\n",
            "Repeated list: [0, 0, 0, 0, 0]\n",
            "Is 5 in the list? True\n",
            "Is 1000 in the list? False\n"
          ]
        }
      ]
    },
    {
      "cell_type": "code",
      "metadata": {
        "colab": {
          "base_uri": "https://localhost:8080/"
        },
        "id": "f5801767",
        "outputId": "d1fa7d58-8bcf-4d3b-b105-d76e039a672d"
      },
      "source": [
        "class Dog:\n",
        "  def __init__(self, name, breed):\n",
        "    self.name = name\n",
        "    self.breed = breed\n",
        "\n",
        "  def bark(self):\n",
        "    print(\"Whoof whoof!\")\n",
        "\n",
        "# Create a Dog object and assign it to dog1 with name and breed\n",
        "dog1 = Dog(\"Buddy\", \"Golden Retriever\")\n",
        "\n",
        "# Use the bark method through dog1\n",
        "print(f\"{dog1.name} ({dog1.breed}) barks:\")\n",
        "dog1.bark()\n",
        "\n",
        "# Create another Dog object and assign it to dog2 with name and breed\n",
        "dog2 = Dog(\"Lucy\", \"Labrador\")\n",
        "\n",
        "# Use the bark method through dog2\n",
        "print(f\"\\n{dog2.name} ({dog2.breed}) barks:\")\n",
        "dog2.bark()"
      ],
      "execution_count": 19,
      "outputs": [
        {
          "output_type": "stream",
          "name": "stdout",
          "text": [
            "Buddy (Golden Retriever) barks:\n",
            "Whoof whoof!\n",
            "\n",
            "Lucy (Labrador) barks:\n",
            "Whoof whoof!\n"
          ]
        }
      ]
    }
  ]
}