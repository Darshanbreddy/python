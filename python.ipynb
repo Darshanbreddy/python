{
  "nbformat": 4,
  "nbformat_minor": 0,
  "metadata": {
    "colab": {
      "provenance": [],
      "authorship_tag": "ABX9TyO/rAJVIobCpQSdBwTdtTrU",
      "include_colab_link": true
    },
    "kernelspec": {
      "name": "python3",
      "display_name": "Python 3"
    },
    "language_info": {
      "name": "python"
    }
  },
  "cells": [
    {
      "cell_type": "markdown",
      "metadata": {
        "id": "view-in-github",
        "colab_type": "text"
      },
      "source": [
        "<a href=\"https://colab.research.google.com/github/Darshanbreddy/python/blob/main/python.ipynb\" target=\"_parent\"><img src=\"https://colab.research.google.com/assets/colab-badge.svg\" alt=\"Open In Colab\"/></a>"
      ]
    },
    {
      "cell_type": "code",
      "execution_count": 1,
      "metadata": {
        "colab": {
          "base_uri": "https://localhost:8080/"
        },
        "id": "XeHGrSDfrZKT",
        "outputId": "97061341-63a7-4035-96b7-5a4937fee4b3"
      },
      "outputs": [
        {
          "output_type": "stream",
          "name": "stdout",
          "text": [
            "hello\n"
          ]
        }
      ],
      "source": [
        "print(\"hello\")"
      ]
    },
    {
      "cell_type": "code",
      "source": [
        "name=input(\"ENTER NAME: \")\n",
        "print(\"name is \", name)"
      ],
      "metadata": {
        "colab": {
          "base_uri": "https://localhost:8080/"
        },
        "id": "OfKmJ36krjgH",
        "outputId": "8d6793a1-0dc2-4714-f67b-81dd18395d9c"
      },
      "execution_count": 2,
      "outputs": [
        {
          "output_type": "stream",
          "name": "stdout",
          "text": [
            "ENTER NAME: Darshan\n",
            "name is  Darshan\n"
          ]
        }
      ]
    },
    {
      "cell_type": "code",
      "source": [
        "num1=input(\"enter number\")\n",
        "num2=input(\"enter second number\")\n",
        "print(num1+num2)"
      ],
      "metadata": {
        "colab": {
          "base_uri": "https://localhost:8080/"
        },
        "id": "-wKhbRqQru-I",
        "outputId": "ef60c56e-101f-4103-8d35-78d5c7ee50fb"
      },
      "execution_count": 3,
      "outputs": [
        {
          "output_type": "stream",
          "name": "stdout",
          "text": [
            "enter number2\n",
            "enter second number3\n",
            "23\n"
          ]
        }
      ]
    },
    {
      "cell_type": "markdown",
      "source": [
        "Type Casting"
      ],
      "metadata": {
        "id": "svULMID9sLbR"
      }
    },
    {
      "cell_type": "code",
      "source": [
        "num1=int(input(\"enter number: \"))\n",
        "num2=int(input(\"enter second number: \"))\n",
        "print(num1+num2)"
      ],
      "metadata": {
        "colab": {
          "base_uri": "https://localhost:8080/"
        },
        "id": "2z27sqUCsNoz",
        "outputId": "19d2b72d-a6e9-4f9c-8d1a-f995df6441de"
      },
      "execution_count": 4,
      "outputs": [
        {
          "output_type": "stream",
          "name": "stdout",
          "text": [
            "enter number: 2\n",
            "enter second number: 3\n",
            "5\n"
          ]
        }
      ]
    },
    {
      "cell_type": "markdown",
      "source": [
        "Assignment and Equality operator"
      ],
      "metadata": {
        "id": "WmmlvEx8ta7m"
      }
    },
    {
      "cell_type": "code",
      "source": [
        "# Assignment operator (=)\n",
        "x = 5\n",
        "y = 10\n",
        "print(\"x =\", x)\n",
        "print(\"y =\", y)\n",
        "\n",
        "# Equality operator (==)\n",
        "print(\"Is x equal to y?\", x == y)\n",
        "\n",
        "z = 5\n",
        "print(\"Is x equal to z?\", x == z)"
      ],
      "metadata": {
        "colab": {
          "base_uri": "https://localhost:8080/"
        },
        "id": "oTNMGOfksnJu",
        "outputId": "ed7ad3ee-e112-4c94-bfa6-3a09cb5419c6"
      },
      "execution_count": 5,
      "outputs": [
        {
          "output_type": "stream",
          "name": "stdout",
          "text": [
            "x = 5\n",
            "y = 10\n",
            "Is x equal to y? False\n",
            "Is x equal to z? True\n"
          ]
        }
      ]
    },
    {
      "cell_type": "code",
      "source": [
        "# Assignment operator (=)\n",
        "a = 10\n",
        "b = 10\n",
        "\n",
        "# Equality operator (==) with if statement\n",
        "if a == b:\n",
        "    print(\"a is equal to b\")\n",
        "else:\n",
        "    print(\"a is not equal to b\")\n",
        "\n",
        "# Another example with different values\n",
        "c = 5\n",
        "d = 15\n",
        "\n",
        "if c == d:\n",
        "    print(\"c is equal to d\")\n",
        "else:\n",
        "    print(\"c is not equal to d\")"
      ],
      "metadata": {
        "colab": {
          "base_uri": "https://localhost:8080/"
        },
        "id": "HdSkCI0ctxHt",
        "outputId": "72112469-fa43-44fe-f17e-074c30114ded"
      },
      "execution_count": 6,
      "outputs": [
        {
          "output_type": "stream",
          "name": "stdout",
          "text": [
            "a is equal to b\n",
            "c is not equal to d\n"
          ]
        }
      ]
    },
    {
      "cell_type": "code",
      "metadata": {
        "colab": {
          "base_uri": "https://localhost:8080/"
        },
        "id": "c933b327",
        "outputId": "6156d75e-ded1-46d0-8a4e-5d7ce4437af0"
      },
      "source": [
        "num1 = float(input(\"Enter the first number: \"))\n",
        "num2 = float(input(\"Enter the second number: \"))\n",
        "\n",
        "if num2 != 0:\n",
        "    print(f\"{num1} + {num2} = {num1 + num2}\")\n",
        "    print(f\"{num1} - {num2} = {num1 - num2}\")\n",
        "    print(f\"{num1} * {num2} = {num1 * num2}\")\n",
        "    print(f\"{num1} / {num2} = {num1 / num2}\")\n",
        "    print(f\"{num1} % {num2} = {num1 % num2}\")\n",
        "else:\n",
        "    print(\"Cannot perform division or modulo by zero.\")"
      ],
      "execution_count": 7,
      "outputs": [
        {
          "output_type": "stream",
          "name": "stdout",
          "text": [
            "Enter the first number: 2\n",
            "Enter the second number: 3\n",
            "2.0 + 3.0 = 5.0\n",
            "2.0 - 3.0 = -1.0\n",
            "2.0 * 3.0 = 6.0\n",
            "2.0 / 3.0 = 0.6666666666666666\n",
            "2.0 % 3.0 = 2.0\n"
          ]
        }
      ]
    },
    {
      "cell_type": "code",
      "metadata": {
        "colab": {
          "base_uri": "https://localhost:8080/"
        },
        "id": "55566365",
        "outputId": "2459d389-5b40-4662-d632-e29bbf993447"
      },
      "source": [
        "num1 = float(input(\"Enter first number: \"))\n",
        "num2 = float(input(\"Enter second number: \"))\n",
        "operation = input(\"Enter operation (+, -, *, /, %): \")\n",
        "\n",
        "if operation == '+':\n",
        "    print(f\"{num1} + {num2} = {num1 + num2}\")\n",
        "elif operation == '-':\n",
        "    print(f\"{num1} - {num2} = {num1 - num2}\")\n",
        "elif operation == '*':\n",
        "    print(f\"{num1} * {num2} = {num1 * num2}\")\n",
        "elif operation == '/':\n",
        "    if num2 != 0:\n",
        "        print(f\"{num1} / {num2} = {num1 / num2}\")\n",
        "    else:\n",
        "        print(\"Error: Division by zero!\")\n",
        "elif operation == '%':\n",
        "    if num2 != 0:\n",
        "        print(f\"{num1} % {num2} = {num1 % num2}\")\n",
        "    else:\n",
        "        print(\"Error: Modulo by zero!\")\n",
        "else:\n",
        "    print(\"Invalid operation.\")"
      ],
      "execution_count": 8,
      "outputs": [
        {
          "output_type": "stream",
          "name": "stdout",
          "text": [
            "Enter first number: 10\n",
            "Enter second number: 2\n",
            "Enter operation (+, -, *, /, %): +\n",
            "10.0 + 2.0 = 12.0\n"
          ]
        }
      ]
    },
    {
      "cell_type": "markdown",
      "metadata": {
        "id": "f57af6c8"
      },
      "source": [
        "### Lists\n",
        "\n",
        "Lists are a built-in data type in Python that are used to store collections of items. They are ordered, mutable (changeable), and allow duplicate values. You can create a list using square brackets `[]`."
      ]
    },
    {
      "cell_type": "code",
      "metadata": {
        "colab": {
          "base_uri": "https://localhost:8080/"
        },
        "id": "90f189ec",
        "outputId": "5e9c480f-0726-4c8e-a2ed-64c968936666"
      },
      "source": [
        "# Creating a list\n",
        "my_list = [1, 2, 3, 4, 5]\n",
        "print(my_list)\n",
        "\n",
        "# Lists can contain different data types\n",
        "mixed_list = [1, \"hello\", True, 3.14]\n",
        "print(mixed_list)"
      ],
      "execution_count": 9,
      "outputs": [
        {
          "output_type": "stream",
          "name": "stdout",
          "text": [
            "[1, 2, 3, 4, 5]\n",
            "[1, 'hello', True, 3.14]\n"
          ]
        }
      ]
    },
    {
      "cell_type": "markdown",
      "metadata": {
        "id": "729a6f6e"
      },
      "source": [
        "Here are some common functions and methods used with lists:\n",
        "\n",
        "*   **`len()`**: Returns the number of items in a list.\n",
        "*   **`append()`**: Adds an item to the end of the list.\n",
        "*   **`insert()`**: Inserts an item at a specified index.\n",
        "*   **`remove()`**: Removes the first occurrence of a specified value.\n",
        "*   **`pop()`**: Removes and returns the item at a specified index (or the last item if no index is specified).\n",
        "*   **`index()`**: Returns the index of the first occurrence of a specified value.\n",
        "*   **`count()`**: Returns the number of times a specified value appears in the list.\n",
        "*   **`sort()`**: Sorts the list in ascending order.\n",
        "*   **`reverse()`**: Reverses the order of the list."
      ]
    },
    {
      "cell_type": "code",
      "metadata": {
        "colab": {
          "base_uri": "https://localhost:8080/"
        },
        "id": "0a171a2f",
        "outputId": "bda82d57-ab97-41c6-d202-cb37667aa685"
      },
      "source": [
        "my_list = [1, 2, 3, 4, 5]\n",
        "\n",
        "# len()\n",
        "print(\"Length of the list:\", len(my_list))\n",
        "\n",
        "# append()\n",
        "my_list.append(6)\n",
        "print(\"After append(6):\", my_list)\n",
        "\n",
        "# insert()\n",
        "my_list.insert(1, 1.5)\n",
        "print(\"After insert(1, 1.5):\", my_list)\n",
        "\n",
        "# remove()\n",
        "my_list.remove(3)\n",
        "print(\"After remove(3):\", my_list)\n",
        "\n",
        "# pop()\n",
        "popped_item = my_list.pop(2)\n",
        "print(\"Popped item at index 2:\", popped_item)\n",
        "print(\"List after pop(2):\", my_list)\n",
        "\n",
        "# index()\n",
        "print(\"Index of 4:\", my_list.index(4))\n",
        "\n",
        "# count()\n",
        "my_list.append(4)\n",
        "print(\"List after appending 4:\", my_list)\n",
        "print(\"Count of 4:\", my_list.count(4))\n",
        "\n",
        "# sort()\n",
        "unsorted_list = [5, 2, 8, 1, 4]\n",
        "unsorted_list.sort()\n",
        "print(\"After sort():\", unsorted_list)\n",
        "\n",
        "# reverse()\n",
        "unsorted_list.reverse()\n",
        "print(\"After reverse():\", unsorted_list)"
      ],
      "execution_count": 10,
      "outputs": [
        {
          "output_type": "stream",
          "name": "stdout",
          "text": [
            "Length of the list: 5\n",
            "After append(6): [1, 2, 3, 4, 5, 6]\n",
            "After insert(1, 1.5): [1, 1.5, 2, 3, 4, 5, 6]\n",
            "After remove(3): [1, 1.5, 2, 4, 5, 6]\n",
            "Popped item at index 2: 2\n",
            "List after pop(2): [1, 1.5, 4, 5, 6]\n",
            "Index of 4: 2\n",
            "List after appending 4: [1, 1.5, 4, 5, 6, 4]\n",
            "Count of 4: 2\n",
            "After sort(): [1, 2, 4, 5, 8]\n",
            "After reverse(): [8, 5, 4, 2, 1]\n"
          ]
        }
      ]
    },
    {
      "cell_type": "markdown",
      "metadata": {
        "id": "69338940"
      },
      "source": [
        "### Arrays\n",
        "\n",
        "In Python, the term \"array\" can refer to different things. The built-in `array` module provides a way to create arrays that are more memory-efficient than lists when you need to store a large number of elements of the same data type. However, for most data science and numerical tasks, the `numpy` library's arrays (ndarrays) are more commonly used and offer a wide range of functions for numerical operations."
      ]
    },
    {
      "cell_type": "markdown",
      "metadata": {
        "id": "66184aee"
      },
      "source": [
        "Let's look at `numpy` arrays as they are more prevalent in data analysis. You'll typically import numpy as `np`."
      ]
    },
    {
      "cell_type": "code",
      "metadata": {
        "colab": {
          "base_uri": "https://localhost:8080/"
        },
        "id": "5ef64beb",
        "outputId": "e7209581-421d-4846-ef2d-d8fd510ece12"
      },
      "source": [
        "import numpy as np\n",
        "\n",
        "# Creating a numpy array\n",
        "my_array = np.array([1, 2, 3, 4, 5])\n",
        "print(my_array)\n",
        "\n",
        "# Creating an array of a specific data type\n",
        "int_array = np.array([1, 2, 3], dtype='int32')\n",
        "print(int_array)"
      ],
      "execution_count": 11,
      "outputs": [
        {
          "output_type": "stream",
          "name": "stdout",
          "text": [
            "[1 2 3 4 5]\n",
            "[1 2 3]\n"
          ]
        }
      ]
    },
    {
      "cell_type": "markdown",
      "metadata": {
        "id": "303ec2ea"
      },
      "source": [
        "NumPy arrays have many attributes and methods. Here are a few:\n",
        "\n",
        "*   **`shape`**: Returns a tuple representing the dimensions of the array.\n",
        "*   **`dtype`**: Returns the data type of the elements in the array.\n",
        "*   **`reshape()`**: Gives a new shape to an array without changing its data.\n",
        "*   **Mathematical operations**: NumPy arrays support element-wise mathematical operations (+, -, \\*, /, etc.).\n",
        "*   **Aggregate functions**: `sum()`, `mean()`, `max()`, `min()`, etc."
      ]
    },
    {
      "cell_type": "code",
      "metadata": {
        "colab": {
          "base_uri": "https://localhost:8080/"
        },
        "id": "2525e1c4",
        "outputId": "fd90756b-e835-4a4f-9270-11c5936ce7fc"
      },
      "source": [
        "import numpy as np\n",
        "\n",
        "my_array = np.array([[1, 2, 3], [4, 5, 6]])\n",
        "print(\"Original array:\\n\", my_array)\n",
        "\n",
        "# shape\n",
        "print(\"Shape of the array:\", my_array.shape)\n",
        "\n",
        "# dtype\n",
        "print(\"Data type of the array:\", my_array.dtype)\n",
        "\n",
        "# reshape()\n",
        "reshaped_array = my_array.reshape(3, 2)\n",
        "print(\"Reshaped array:\\n\", reshaped_array)\n",
        "\n",
        "# Mathematical operations\n",
        "array1 = np.array([1, 2, 3])\n",
        "array2 = np.array([4, 5, 6])\n",
        "print(\"Addition of arrays:\", array1 + array2)\n",
        "\n",
        "# Aggregate functions\n",
        "print(\"Sum of array1:\", array1.sum())\n",
        "print(\"Mean of array2:\", array2.mean())"
      ],
      "execution_count": 12,
      "outputs": [
        {
          "output_type": "stream",
          "name": "stdout",
          "text": [
            "Original array:\n",
            " [[1 2 3]\n",
            " [4 5 6]]\n",
            "Shape of the array: (2, 3)\n",
            "Data type of the array: int64\n",
            "Reshaped array:\n",
            " [[1 2]\n",
            " [3 4]\n",
            " [5 6]]\n",
            "Addition of arrays: [5 7 9]\n",
            "Sum of array1: 6\n",
            "Mean of array2: 5.0\n"
          ]
        }
      ]
    },
    {
      "cell_type": "markdown",
      "metadata": {
        "id": "0b45e743"
      },
      "source": [
        "This is just an introduction. Both lists and NumPy arrays have many more functionalities. The choice between using a list and a NumPy array depends on your specific needs. Lists are more general-purpose, while NumPy arrays are optimized for numerical operations."
      ]
    },
    {
      "cell_type": "markdown",
      "metadata": {
        "id": "b1c177cd"
      },
      "source": [
        "### For Loops\n",
        "\n",
        "A `for` loop is used for iterating over a sequence (like a list, tuple, string, or range) or other iterable objects. It executes a block of code for each item in the sequence."
      ]
    },
    {
      "cell_type": "code",
      "metadata": {
        "colab": {
          "base_uri": "https://localhost:8080/"
        },
        "id": "458e4e25",
        "outputId": "33c1d2c5-8c09-4ec9-9adc-ba572b1bb1b2"
      },
      "source": [
        "# Example of a for loop with a list\n",
        "fruits = [\"apple\", \"banana\", \"cherry\"]\n",
        "for fruit in fruits:\n",
        "  print(fruit)\n",
        "\n",
        "# Example of a for loop with a range\n",
        "for i in range(5):\n",
        "  print(i)"
      ],
      "execution_count": 13,
      "outputs": [
        {
          "output_type": "stream",
          "name": "stdout",
          "text": [
            "apple\n",
            "banana\n",
            "cherry\n",
            "0\n",
            "1\n",
            "2\n",
            "3\n",
            "4\n"
          ]
        }
      ]
    },
    {
      "cell_type": "markdown",
      "metadata": {
        "id": "143ecfcb"
      },
      "source": [
        "### While Loops\n",
        "\n",
        "A `while` loop is used to execute a block of code repeatedly as long as a condition is true."
      ]
    },
    {
      "cell_type": "code",
      "metadata": {
        "colab": {
          "base_uri": "https://localhost:8080/"
        },
        "id": "ac210bb0",
        "outputId": "f118f634-fc08-4c2f-d922-83103bc4b06c"
      },
      "source": [
        "# Example of a while loop\n",
        "count = 0\n",
        "while count < 5:\n",
        "  print(count)\n",
        "  count += 1"
      ],
      "execution_count": 14,
      "outputs": [
        {
          "output_type": "stream",
          "name": "stdout",
          "text": [
            "0\n",
            "1\n",
            "2\n",
            "3\n",
            "4\n"
          ]
        }
      ]
    },
    {
      "cell_type": "markdown",
      "metadata": {
        "id": "439a35ab"
      },
      "source": [
        "Both loops can also use `break` to exit the loop and `continue` to skip the current iteration."
      ]
    },
    {
      "cell_type": "code",
      "metadata": {
        "colab": {
          "base_uri": "https://localhost:8080/"
        },
        "id": "583b012d",
        "outputId": "b091f64e-c5aa-4c39-b2e1-c50dba6f4484"
      },
      "source": [
        "# Example of using break in a for loop\n",
        "for i in range(10):\n",
        "  if i == 5:\n",
        "    break\n",
        "  print(i)\n",
        "\n",
        "# Example of using continue in a while loop\n",
        "count = 0\n",
        "while count < 10:\n",
        "  count += 1\n",
        "  if count % 2 == 0:\n",
        "    continue\n",
        "  print(count)"
      ],
      "execution_count": 15,
      "outputs": [
        {
          "output_type": "stream",
          "name": "stdout",
          "text": [
            "0\n",
            "1\n",
            "2\n",
            "3\n",
            "4\n",
            "1\n",
            "3\n",
            "5\n",
            "7\n",
            "9\n"
          ]
        }
      ]
    },
    {
      "cell_type": "markdown",
      "metadata": {
        "id": "976879fb"
      },
      "source": [
        "Let's define a function called `calculate` that will perform the calculator operations. This function will take three arguments: the first number, the second number, and the operation as a string."
      ]
    },
    {
      "cell_type": "code",
      "metadata": {
        "colab": {
          "base_uri": "https://localhost:8080/"
        },
        "id": "c81eec31",
        "outputId": "9e470625-1a86-4a39-bd79-ae219f55c7a1"
      },
      "source": [
        "def calculate(num1, num2, operation):\n",
        "  \"\"\"Performs a calculation based on the provided numbers and operation.\"\"\"\n",
        "  if operation == '+':\n",
        "    return num1 + num2\n",
        "  elif operation == '-':\n",
        "    return num1 - num2\n",
        "  elif operation == '*':\n",
        "    return num1 * num2\n",
        "  elif operation == '/':\n",
        "    if num2 == 0:\n",
        "      return \"Error: Cannot divide by zero!\"\n",
        "    return num1 / num2\n",
        "  elif operation == '%':\n",
        "    if num2 == 0:\n",
        "      return \"Error: Cannot perform modulo by zero!\"\n",
        "    return num1 % num2\n",
        "  else:\n",
        "    return \"Invalid operation.\"\n",
        "\n",
        "# Example of how to use the function:\n",
        "result = calculate(10, 5, '+')\n",
        "print(f\"10 + 5 = {result}\")\n",
        "\n",
        "result = calculate(20, 4, '/')\n",
        "print(f\"20 / 4 = {result}\")\n",
        "\n",
        "result = calculate(7, 0, '/')\n",
        "print(f\"7 / 0 = {result}\")"
      ],
      "execution_count": 16,
      "outputs": [
        {
          "output_type": "stream",
          "name": "stdout",
          "text": [
            "10 + 5 = 15\n",
            "20 / 4 = 5.0\n",
            "7 / 0 = Error: Cannot divide by zero!\n"
          ]
        }
      ]
    },
    {
      "cell_type": "markdown",
      "metadata": {
        "id": "0f672a42"
      },
      "source": [
        "**Explanation:**\n",
        "\n",
        "*   We define the function `calculate` that accepts `num1`, `num2`, and `operation` as parameters.\n",
        "*   Inside the function, we use `if-elif-else` statements to check the value of the `operation` parameter.\n",
        "*   Based on the operation, the corresponding arithmetic calculation is performed.\n",
        "*   For division and modulo, we include a check to prevent division by zero.\n",
        "*   The function returns the result of the calculation or an error message if the operation is invalid or division by zero occurs.\n",
        "*   We then show examples of how to call the function with different numbers and operations and print the results."
      ]
    },
    {
      "cell_type": "markdown",
      "source": [
        "Day 2 begins from here\n"
      ],
      "metadata": {
        "id": "YDMUaWPC6xDG"
      }
    },
    {
      "cell_type": "code",
      "source": [],
      "metadata": {
        "id": "P7jr44pG61H_"
      },
      "execution_count": null,
      "outputs": []
    }
  ]
}