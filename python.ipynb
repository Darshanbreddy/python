{
  "nbformat": 4,
  "nbformat_minor": 0,
  "metadata": {
    "colab": {
      "provenance": [],
      "authorship_tag": "ABX9TyPyhPsk3vJTDaUyYQ8FvgjG",
      "include_colab_link": true
    },
    "kernelspec": {
      "name": "python3",
      "display_name": "Python 3"
    },
    "language_info": {
      "name": "python"
    }
  },
  "cells": [
    {
      "cell_type": "markdown",
      "metadata": {
        "id": "view-in-github",
        "colab_type": "text"
      },
      "source": [
        "<a href=\"https://colab.research.google.com/github/Darshanbreddy/python/blob/main/python.ipynb\" target=\"_parent\"><img src=\"https://colab.research.google.com/assets/colab-badge.svg\" alt=\"Open In Colab\"/></a>"
      ]
    },
    {
      "cell_type": "code",
      "execution_count": 1,
      "metadata": {
        "colab": {
          "base_uri": "https://localhost:8080/"
        },
        "id": "XeHGrSDfrZKT",
        "outputId": "f0b4cefa-d6e6-40fa-fec1-54b02ea3b127"
      },
      "outputs": [
        {
          "output_type": "stream",
          "name": "stdout",
          "text": [
            "hello\n"
          ]
        }
      ],
      "source": [
        "print(\"hello\")"
      ]
    },
    {
      "cell_type": "code",
      "source": [
        "name=input(\"ENTER NAME: \")\n",
        "print(\"name is \", name)"
      ],
      "metadata": {
        "colab": {
          "base_uri": "https://localhost:8080/"
        },
        "id": "OfKmJ36krjgH",
        "outputId": "93c5759e-c21e-4167-d537-720832329054"
      },
      "execution_count": 2,
      "outputs": [
        {
          "output_type": "stream",
          "name": "stdout",
          "text": [
            "ENTER NAME: Darshan\n",
            "name is  Darshan\n"
          ]
        }
      ]
    },
    {
      "cell_type": "code",
      "source": [
        "num1=input(\"enter number\")\n",
        "num2=input(\"enter second number\")\n",
        "print(num1+num2)"
      ],
      "metadata": {
        "colab": {
          "base_uri": "https://localhost:8080/"
        },
        "id": "-wKhbRqQru-I",
        "outputId": "301139bd-044d-446d-8492-1fbfccb2668c"
      },
      "execution_count": 3,
      "outputs": [
        {
          "output_type": "stream",
          "name": "stdout",
          "text": [
            "enter number81\n",
            "enter second number81\n",
            "8181\n"
          ]
        }
      ]
    },
    {
      "cell_type": "markdown",
      "source": [
        "Type Casting"
      ],
      "metadata": {
        "id": "svULMID9sLbR"
      }
    },
    {
      "cell_type": "code",
      "source": [
        "num1=int(input(\"enter number: \"))\n",
        "num2=int(input(\"enter second number: \"))\n",
        "print(num1+num2)"
      ],
      "metadata": {
        "colab": {
          "base_uri": "https://localhost:8080/"
        },
        "id": "2z27sqUCsNoz",
        "outputId": "7604b538-ad64-4532-854f-1ba65049130d"
      },
      "execution_count": 4,
      "outputs": [
        {
          "output_type": "stream",
          "name": "stdout",
          "text": [
            "enter number: 81\n",
            "enter second number: 81\n",
            "162\n"
          ]
        }
      ]
    },
    {
      "cell_type": "markdown",
      "source": [
        "Assignment and Equality operator"
      ],
      "metadata": {
        "id": "WmmlvEx8ta7m"
      }
    },
    {
      "cell_type": "code",
      "source": [
        "# Assignment operator (=)\n",
        "x = 5\n",
        "y = 10\n",
        "print(\"x =\", x)\n",
        "print(\"y =\", y)\n",
        "\n",
        "# Equality operator (==)\n",
        "print(\"Is x equal to y?\", x == y)\n",
        "\n",
        "z = 5\n",
        "print(\"Is x equal to z?\", x == z)"
      ],
      "metadata": {
        "colab": {
          "base_uri": "https://localhost:8080/"
        },
        "id": "oTNMGOfksnJu",
        "outputId": "ad597576-fb64-4c54-dafe-2fc8889a6801"
      },
      "execution_count": 5,
      "outputs": [
        {
          "output_type": "stream",
          "name": "stdout",
          "text": [
            "x = 5\n",
            "y = 10\n",
            "Is x equal to y? False\n",
            "Is x equal to z? True\n"
          ]
        }
      ]
    },
    {
      "cell_type": "code",
      "source": [
        "# Assignment operator (=)\n",
        "a = 10\n",
        "b = 10\n",
        "\n",
        "# Equality operator (==) with if statement\n",
        "if a == b:\n",
        "    print(\"a is equal to b\")\n",
        "else:\n",
        "    print(\"a is not equal to b\")\n",
        "\n",
        "# Another example with different values\n",
        "c = 5\n",
        "d = 15\n",
        "\n",
        "if c == d:\n",
        "    print(\"c is equal to d\")\n",
        "else:\n",
        "    print(\"c is not equal to d\")"
      ],
      "metadata": {
        "colab": {
          "base_uri": "https://localhost:8080/"
        },
        "id": "HdSkCI0ctxHt",
        "outputId": "4cdca9a5-38bf-413e-ef56-fc0c749e8eb0"
      },
      "execution_count": 6,
      "outputs": [
        {
          "output_type": "stream",
          "name": "stdout",
          "text": [
            "a is equal to b\n",
            "c is not equal to d\n"
          ]
        }
      ]
    },
    {
      "cell_type": "code",
      "metadata": {
        "colab": {
          "base_uri": "https://localhost:8080/"
        },
        "id": "c933b327",
        "outputId": "1600430c-a9be-44b3-a6e5-e9fe1065d598"
      },
      "source": [
        "num1 = float(input(\"Enter the first number: \"))\n",
        "num2 = float(input(\"Enter the second number: \"))\n",
        "\n",
        "if num2 != 0:\n",
        "    print(f\"{num1} + {num2} = {num1 + num2}\")\n",
        "    print(f\"{num1} - {num2} = {num1 - num2}\")\n",
        "    print(f\"{num1} * {num2} = {num1 * num2}\")\n",
        "    print(f\"{num1} / {num2} = {num1 / num2}\")\n",
        "    print(f\"{num1} % {num2} = {num1 % num2}\")\n",
        "else:\n",
        "    print(\"Cannot perform division or modulo by zero.\")"
      ],
      "execution_count": 7,
      "outputs": [
        {
          "output_type": "stream",
          "name": "stdout",
          "text": [
            "Enter the first number: 1\n",
            "Enter the second number: 2\n",
            "1.0 + 2.0 = 3.0\n",
            "1.0 - 2.0 = -1.0\n",
            "1.0 * 2.0 = 2.0\n",
            "1.0 / 2.0 = 0.5\n",
            "1.0 % 2.0 = 1.0\n"
          ]
        }
      ]
    },
    {
      "cell_type": "code",
      "metadata": {
        "colab": {
          "base_uri": "https://localhost:8080/"
        },
        "id": "55566365",
        "outputId": "8d37e287-f756-47fd-d1fb-aa0c81039505"
      },
      "source": [
        "num1 = float(input(\"Enter first number: \"))\n",
        "num2 = float(input(\"Enter second number: \"))\n",
        "operation = input(\"Enter operation (+, -, *, /, %): \")\n",
        "\n",
        "if operation == '+':\n",
        "    print(f\"{num1} + {num2} = {num1 + num2}\")\n",
        "elif operation == '-':\n",
        "    print(f\"{num1} - {num2} = {num1 - num2}\")\n",
        "elif operation == '*':\n",
        "    print(f\"{num1} * {num2} = {num1 * num2}\")\n",
        "elif operation == '/':\n",
        "    if num2 != 0:\n",
        "        print(f\"{num1} / {num2} = {num1 / num2}\")\n",
        "    else:\n",
        "        print(\"Error: Division by zero!\")\n",
        "elif operation == '%':\n",
        "    if num2 != 0:\n",
        "        print(f\"{num1} % {num2} = {num1 % num2}\")\n",
        "    else:\n",
        "        print(\"Error: Modulo by zero!\")\n",
        "else:\n",
        "    print(\"Invalid operation.\")"
      ],
      "execution_count": 8,
      "outputs": [
        {
          "output_type": "stream",
          "name": "stdout",
          "text": [
            "Enter first number: 1\n",
            "Enter second number: 2\n",
            "Enter operation (+, -, *, /, %): %\n",
            "1.0 % 2.0 = 1.0\n"
          ]
        }
      ]
    },
    {
      "cell_type": "markdown",
      "metadata": {
        "id": "f57af6c8"
      },
      "source": [
        "### Lists\n",
        "\n",
        "Lists are a built-in data type in Python that are used to store collections of items. They are ordered, mutable (changeable), and allow duplicate values. You can create a list using square brackets `[]`."
      ]
    },
    {
      "cell_type": "code",
      "metadata": {
        "colab": {
          "base_uri": "https://localhost:8080/"
        },
        "id": "90f189ec",
        "outputId": "f4ef71fc-7984-4093-a873-dadd56351364"
      },
      "source": [
        "# Creating a list\n",
        "my_list = [1, 2, 3, 4, 5]\n",
        "print(my_list)\n",
        "\n",
        "# Lists can contain different data types\n",
        "mixed_list = [1, \"hello\", True, 3.14]\n",
        "print(mixed_list)"
      ],
      "execution_count": 9,
      "outputs": [
        {
          "output_type": "stream",
          "name": "stdout",
          "text": [
            "[1, 2, 3, 4, 5]\n",
            "[1, 'hello', True, 3.14]\n"
          ]
        }
      ]
    },
    {
      "cell_type": "markdown",
      "metadata": {
        "id": "729a6f6e"
      },
      "source": [
        "Here are some common functions and methods used with lists:\n",
        "\n",
        "*   **`len()`**: Returns the number of items in a list.\n",
        "*   **`append()`**: Adds an item to the end of the list.\n",
        "*   **`insert()`**: Inserts an item at a specified index.\n",
        "*   **`remove()`**: Removes the first occurrence of a specified value.\n",
        "*   **`pop()`**: Removes and returns the item at a specified index (or the last item if no index is specified).\n",
        "*   **`index()`**: Returns the index of the first occurrence of a specified value.\n",
        "*   **`count()`**: Returns the number of times a specified value appears in the list.\n",
        "*   **`sort()`**: Sorts the list in ascending order.\n",
        "*   **`reverse()`**: Reverses the order of the list."
      ]
    },
    {
      "cell_type": "code",
      "metadata": {
        "colab": {
          "base_uri": "https://localhost:8080/"
        },
        "id": "0a171a2f",
        "outputId": "9a12e893-320f-4ff7-dbd3-2e0e5447708a"
      },
      "source": [
        "my_list = [1, 2, 3, 4, 5]\n",
        "\n",
        "# len()\n",
        "print(\"Length of the list:\", len(my_list))\n",
        "\n",
        "# append()\n",
        "my_list.append(6)\n",
        "print(\"After append(6):\", my_list)\n",
        "\n",
        "# insert()\n",
        "my_list.insert(1, 1.5)\n",
        "print(\"After insert(1, 1.5):\", my_list)\n",
        "\n",
        "# remove()\n",
        "my_list.remove(3)\n",
        "print(\"After remove(3):\", my_list)\n",
        "\n",
        "# pop()\n",
        "popped_item = my_list.pop(2)\n",
        "print(\"Popped item at index 2:\", popped_item)\n",
        "print(\"List after pop(2):\", my_list)\n",
        "\n",
        "# index()\n",
        "print(\"Index of 4:\", my_list.index(4))\n",
        "\n",
        "# count()\n",
        "my_list.append(4)\n",
        "print(\"List after appending 4:\", my_list)\n",
        "print(\"Count of 4:\", my_list.count(4))\n",
        "\n",
        "# sort()\n",
        "unsorted_list = [5, 2, 8, 1, 4]\n",
        "unsorted_list.sort()\n",
        "print(\"After sort():\", unsorted_list)\n",
        "\n",
        "# reverse()\n",
        "unsorted_list.reverse()\n",
        "print(\"After reverse():\", unsorted_list)"
      ],
      "execution_count": 10,
      "outputs": [
        {
          "output_type": "stream",
          "name": "stdout",
          "text": [
            "Length of the list: 5\n",
            "After append(6): [1, 2, 3, 4, 5, 6]\n",
            "After insert(1, 1.5): [1, 1.5, 2, 3, 4, 5, 6]\n",
            "After remove(3): [1, 1.5, 2, 4, 5, 6]\n",
            "Popped item at index 2: 2\n",
            "List after pop(2): [1, 1.5, 4, 5, 6]\n",
            "Index of 4: 2\n",
            "List after appending 4: [1, 1.5, 4, 5, 6, 4]\n",
            "Count of 4: 2\n",
            "After sort(): [1, 2, 4, 5, 8]\n",
            "After reverse(): [8, 5, 4, 2, 1]\n"
          ]
        }
      ]
    },
    {
      "cell_type": "markdown",
      "metadata": {
        "id": "69338940"
      },
      "source": [
        "### Arrays\n",
        "\n",
        "In Python, the term \"array\" can refer to different things. The built-in `array` module provides a way to create arrays that are more memory-efficient than lists when you need to store a large number of elements of the same data type. However, for most data science and numerical tasks, the `numpy` library's arrays (ndarrays) are more commonly used and offer a wide range of functions for numerical operations."
      ]
    },
    {
      "cell_type": "markdown",
      "metadata": {
        "id": "66184aee"
      },
      "source": [
        "Let's look at `numpy` arrays as they are more prevalent in data analysis. You'll typically import numpy as `np`."
      ]
    },
    {
      "cell_type": "code",
      "metadata": {
        "colab": {
          "base_uri": "https://localhost:8080/"
        },
        "id": "5ef64beb",
        "outputId": "5f6219e1-9bb8-4c50-c020-2e3cfac35037"
      },
      "source": [
        "import numpy as np\n",
        "\n",
        "# Creating a numpy array\n",
        "my_array = np.array([1, 2, 3, 4, 5])\n",
        "print(my_array)\n",
        "\n",
        "# Creating an array of a specific data type\n",
        "int_array = np.array([1, 2, 3], dtype='int32')\n",
        "print(int_array)"
      ],
      "execution_count": 11,
      "outputs": [
        {
          "output_type": "stream",
          "name": "stdout",
          "text": [
            "[1 2 3 4 5]\n",
            "[1 2 3]\n"
          ]
        }
      ]
    },
    {
      "cell_type": "markdown",
      "metadata": {
        "id": "303ec2ea"
      },
      "source": [
        "NumPy arrays have many attributes and methods. Here are a few:\n",
        "\n",
        "*   **`shape`**: Returns a tuple representing the dimensions of the array.\n",
        "*   **`dtype`**: Returns the data type of the elements in the array.\n",
        "*   **`reshape()`**: Gives a new shape to an array without changing its data.\n",
        "*   **Mathematical operations**: NumPy arrays support element-wise mathematical operations (+, -, \\*, /, etc.).\n",
        "*   **Aggregate functions**: `sum()`, `mean()`, `max()`, `min()`, etc."
      ]
    },
    {
      "cell_type": "code",
      "metadata": {
        "colab": {
          "base_uri": "https://localhost:8080/"
        },
        "id": "2525e1c4",
        "outputId": "db736e89-0cc3-483c-dc81-f11c05ec4568"
      },
      "source": [
        "import numpy as np\n",
        "\n",
        "my_array = np.array([[1, 2, 3], [4, 5, 6]])\n",
        "print(\"Original array:\\n\", my_array)\n",
        "\n",
        "# shape\n",
        "print(\"Shape of the array:\", my_array.shape)\n",
        "\n",
        "# dtype\n",
        "print(\"Data type of the array:\", my_array.dtype)\n",
        "\n",
        "# reshape()\n",
        "reshaped_array = my_array.reshape(3, 2)\n",
        "print(\"Reshaped array:\\n\", reshaped_array)\n",
        "\n",
        "# Mathematical operations\n",
        "array1 = np.array([1, 2, 3])\n",
        "array2 = np.array([4, 5, 6])\n",
        "print(\"Addition of arrays:\", array1 + array2)\n",
        "\n",
        "# Aggregate functions\n",
        "print(\"Sum of array1:\", array1.sum())\n",
        "print(\"Mean of array2:\", array2.mean())"
      ],
      "execution_count": 12,
      "outputs": [
        {
          "output_type": "stream",
          "name": "stdout",
          "text": [
            "Original array:\n",
            " [[1 2 3]\n",
            " [4 5 6]]\n",
            "Shape of the array: (2, 3)\n",
            "Data type of the array: int64\n",
            "Reshaped array:\n",
            " [[1 2]\n",
            " [3 4]\n",
            " [5 6]]\n",
            "Addition of arrays: [5 7 9]\n",
            "Sum of array1: 6\n",
            "Mean of array2: 5.0\n"
          ]
        }
      ]
    },
    {
      "cell_type": "markdown",
      "metadata": {
        "id": "0b45e743"
      },
      "source": [
        "This is just an introduction. Both lists and NumPy arrays have many more functionalities. The choice between using a list and a NumPy array depends on your specific needs. Lists are more general-purpose, while NumPy arrays are optimized for numerical operations."
      ]
    },
    {
      "cell_type": "markdown",
      "metadata": {
        "id": "b1c177cd"
      },
      "source": [
        "### For Loops\n",
        "\n",
        "A `for` loop is used for iterating over a sequence (like a list, tuple, string, or range) or other iterable objects. It executes a block of code for each item in the sequence."
      ]
    },
    {
      "cell_type": "code",
      "metadata": {
        "colab": {
          "base_uri": "https://localhost:8080/"
        },
        "id": "458e4e25",
        "outputId": "bd8a3412-5ae9-4928-e0e8-f85fab2a9632"
      },
      "source": [
        "# Example of a for loop with a list\n",
        "fruits = [\"apple\", \"banana\", \"cherry\"]\n",
        "for fruit in fruits:\n",
        "  print(fruit)\n",
        "\n",
        "# Example of a for loop with a range\n",
        "for i in range(5):\n",
        "  print(i)"
      ],
      "execution_count": 13,
      "outputs": [
        {
          "output_type": "stream",
          "name": "stdout",
          "text": [
            "apple\n",
            "banana\n",
            "cherry\n",
            "0\n",
            "1\n",
            "2\n",
            "3\n",
            "4\n"
          ]
        }
      ]
    },
    {
      "cell_type": "markdown",
      "metadata": {
        "id": "143ecfcb"
      },
      "source": [
        "### While Loops\n",
        "\n",
        "A `while` loop is used to execute a block of code repeatedly as long as a condition is true."
      ]
    },
    {
      "cell_type": "code",
      "metadata": {
        "colab": {
          "base_uri": "https://localhost:8080/"
        },
        "id": "ac210bb0",
        "outputId": "3448c17d-a57f-4bd8-d957-c49b1c2d12f2"
      },
      "source": [
        "# Example of a while loop\n",
        "count = 0\n",
        "while count < 5:\n",
        "  print(count)\n",
        "  count += 1"
      ],
      "execution_count": 14,
      "outputs": [
        {
          "output_type": "stream",
          "name": "stdout",
          "text": [
            "0\n",
            "1\n",
            "2\n",
            "3\n",
            "4\n"
          ]
        }
      ]
    },
    {
      "cell_type": "markdown",
      "metadata": {
        "id": "439a35ab"
      },
      "source": [
        "Both loops can also use `break` to exit the loop and `continue` to skip the current iteration."
      ]
    },
    {
      "cell_type": "code",
      "metadata": {
        "colab": {
          "base_uri": "https://localhost:8080/"
        },
        "id": "583b012d",
        "outputId": "2228a101-155a-4d17-bb8f-a1da766b7486"
      },
      "source": [
        "# Example of using break in a for loop\n",
        "for i in range(10):\n",
        "  if i == 5:\n",
        "    break\n",
        "  print(i)\n",
        "\n",
        "# Example of using continue in a while loop\n",
        "count = 0\n",
        "while count < 10:\n",
        "  count += 1\n",
        "  if count % 2 == 0:\n",
        "    continue\n",
        "  print(count)"
      ],
      "execution_count": 15,
      "outputs": [
        {
          "output_type": "stream",
          "name": "stdout",
          "text": [
            "0\n",
            "1\n",
            "2\n",
            "3\n",
            "4\n",
            "1\n",
            "3\n",
            "5\n",
            "7\n",
            "9\n"
          ]
        }
      ]
    },
    {
      "cell_type": "markdown",
      "metadata": {
        "id": "976879fb"
      },
      "source": [
        "Let's define a function called `calculate` that will perform the calculator operations. This function will take three arguments: the first number, the second number, and the operation as a string."
      ]
    },
    {
      "cell_type": "code",
      "metadata": {
        "colab": {
          "base_uri": "https://localhost:8080/"
        },
        "id": "c81eec31",
        "outputId": "725203d7-42ce-47e7-ef5a-4604916339d0"
      },
      "source": [
        "def calculate(num1, num2, operation):\n",
        "  \"\"\"Performs a calculation based on the provided numbers and operation.\"\"\"\n",
        "  if operation == '+':\n",
        "    return num1 + num2\n",
        "  elif operation == '-':\n",
        "    return num1 - num2\n",
        "  elif operation == '*':\n",
        "    return num1 * num2\n",
        "  elif operation == '/':\n",
        "    if num2 == 0:\n",
        "      return \"Error: Cannot divide by zero!\"\n",
        "    return num1 / num2\n",
        "  elif operation == '%':\n",
        "    if num2 == 0:\n",
        "      return \"Error: Cannot perform modulo by zero!\"\n",
        "    return num1 % num2\n",
        "  else:\n",
        "    return \"Invalid operation.\"\n",
        "\n",
        "# Example of how to use the function:\n",
        "result = calculate(10, 5, '+')\n",
        "print(f\"10 + 5 = {result}\")\n",
        "\n",
        "result = calculate(20, 4, '/')\n",
        "print(f\"20 / 4 = {result}\")\n",
        "\n",
        "result = calculate(7, 0, '/')\n",
        "print(f\"7 / 0 = {result}\")"
      ],
      "execution_count": 16,
      "outputs": [
        {
          "output_type": "stream",
          "name": "stdout",
          "text": [
            "10 + 5 = 15\n",
            "20 / 4 = 5.0\n",
            "7 / 0 = Error: Cannot divide by zero!\n"
          ]
        }
      ]
    },
    {
      "cell_type": "markdown",
      "metadata": {
        "id": "0f672a42"
      },
      "source": [
        "**Explanation:**\n",
        "\n",
        "*   We define the function `calculate` that accepts `num1`, `num2`, and `operation` as parameters.\n",
        "*   Inside the function, we use `if-elif-else` statements to check the value of the `operation` parameter.\n",
        "*   Based on the operation, the corresponding arithmetic calculation is performed.\n",
        "*   For division and modulo, we include a check to prevent division by zero.\n",
        "*   The function returns the result of the calculation or an error message if the operation is invalid or division by zero occurs.\n",
        "*   We then show examples of how to call the function with different numbers and operations and print the results."
      ]
    },
    {
      "cell_type": "markdown",
      "source": [
        "Day 2 begins from here\n"
      ],
      "metadata": {
        "id": "YDMUaWPC6xDG"
      }
    },
    {
      "cell_type": "code",
      "source": [],
      "metadata": {
        "id": "P7jr44pG61H_"
      },
      "execution_count": 16,
      "outputs": []
    },
    {
      "cell_type": "markdown",
      "metadata": {
        "id": "7b2aa1d0"
      },
      "source": [
        "### Data Manipulation with Lists\n",
        "\n",
        "Lists are versatile and can be manipulated in various ways. Here are some common data manipulation techniques using lists:"
      ]
    },
    {
      "cell_type": "code",
      "metadata": {
        "colab": {
          "base_uri": "https://localhost:8080/"
        },
        "id": "712e9548",
        "outputId": "fee587c9-6ce0-49d9-b9c5-4f6d5203f4f9"
      },
      "source": [
        "# Original list\n",
        "numbers = [1, 2, 3, 4, 5, 6, 7, 8, 9, 10]\n",
        "print(\"Original list:\", numbers)\n",
        "\n",
        "# Slicing: Getting a portion of the list\n",
        "subset = numbers[2:6]  # Elements from index 2 up to (but not including) index 6\n",
        "print(\"Subset (index 2 to 5):\", subset)\n",
        "\n",
        "# Slicing with step\n",
        "every_other = numbers[::2] # Every other element\n",
        "print(\"Every other element:\", every_other)\n",
        "\n",
        "# Reversing a list using slicing\n",
        "reversed_numbers = numbers[::-1]\n",
        "print(\"Reversed list:\", reversed_numbers)\n",
        "\n",
        "# Modifying elements\n",
        "numbers[0] = 100\n",
        "print(\"List after modifying the first element:\", numbers)\n",
        "\n",
        "# Adding elements (using append and insert - already covered)\n",
        "# Removing elements (using remove and pop - already covered)\n",
        "\n",
        "# List concatenation\n",
        "list1 = [1, 2, 3]\n",
        "list2 = [4, 5, 6]\n",
        "combined_list = list1 + list2\n",
        "print(\"Combined list:\", combined_list)\n",
        "\n",
        "# List repetition\n",
        "repeated_list = [0] * 5\n",
        "print(\"Repeated list:\", repeated_list)\n",
        "\n",
        "# Checking if an element exists in a list\n",
        "print(\"Is 5 in the list?\", 5 in numbers)\n",
        "print(\"Is 1000 in the list?\", 1000 in numbers)"
      ],
      "execution_count": 17,
      "outputs": [
        {
          "output_type": "stream",
          "name": "stdout",
          "text": [
            "Original list: [1, 2, 3, 4, 5, 6, 7, 8, 9, 10]\n",
            "Subset (index 2 to 5): [3, 4, 5, 6]\n",
            "Every other element: [1, 3, 5, 7, 9]\n",
            "Reversed list: [10, 9, 8, 7, 6, 5, 4, 3, 2, 1]\n",
            "List after modifying the first element: [100, 2, 3, 4, 5, 6, 7, 8, 9, 10]\n",
            "Combined list: [1, 2, 3, 4, 5, 6]\n",
            "Repeated list: [0, 0, 0, 0, 0]\n",
            "Is 5 in the list? True\n",
            "Is 1000 in the list? False\n"
          ]
        }
      ]
    },
    {
      "cell_type": "markdown",
      "source": [
        "Class and Objects"
      ],
      "metadata": {
        "id": "OG_VGsP9uURl"
      }
    },
    {
      "cell_type": "code",
      "metadata": {
        "colab": {
          "base_uri": "https://localhost:8080/"
        },
        "id": "f5801767",
        "outputId": "d1fa7d58-8bcf-4d3b-b105-d76e039a672d"
      },
      "source": [
        "class Dog:\n",
        "  def __init__(self, name, breed):\n",
        "    self.name = name\n",
        "    self.breed = breed\n",
        "\n",
        "  def bark(self):\n",
        "    print(\"Whoof whoof!\")\n",
        "\n",
        "# Create a Dog object and assign it to dog1 with name and breed\n",
        "dog1 = Dog(\"Buddy\", \"Golden Retriever\")\n",
        "\n",
        "# Use the bark method through dog1\n",
        "print(f\"{dog1.name} ({dog1.breed}) barks:\")\n",
        "dog1.bark()\n",
        "\n",
        "# Create another Dog object and assign it to dog2 with name and breed\n",
        "dog2 = Dog(\"Lucy\", \"Labrador\")\n",
        "\n",
        "# Use the bark method through dog2\n",
        "print(f\"\\n{dog2.name} ({dog2.breed}) barks:\")\n",
        "dog2.bark()"
      ],
      "execution_count": 19,
      "outputs": [
        {
          "output_type": "stream",
          "name": "stdout",
          "text": [
            "Buddy (Golden Retriever) barks:\n",
            "Whoof whoof!\n",
            "\n",
            "Lucy (Labrador) barks:\n",
            "Whoof whoof!\n"
          ]
        }
      ]
    },
    {
      "cell_type": "code",
      "metadata": {
        "id": "cf5ed84d"
      },
      "source": [
        "class Owner:\n",
        "  def __init__(self, name, address, phone_no):\n",
        "    self.name = name\n",
        "    self.address = address\n",
        "    self.phone_no = phone_no\n",
        "\n",
        "  def display_owner_info(self):\n",
        "    print(f\"  Owner Name: {self.name}\")\n",
        "    print(f\"  Address: {self.address}\")\n",
        "    print(f\"  Phone Number: {self.phone_no}\")"
      ],
      "execution_count": 20,
      "outputs": []
    },
    {
      "cell_type": "markdown",
      "source": [
        "We Will pass the Owner object into our dog object\n"
      ],
      "metadata": {
        "id": "Yg-U40YkuLE6"
      }
    },
    {
      "cell_type": "code",
      "metadata": {
        "colab": {
          "base_uri": "https://localhost:8080/"
        },
        "id": "26a33917",
        "outputId": "d129bf95-34a0-4fd0-8e66-40286921c8aa"
      },
      "source": [
        "class Dog:\n",
        "  def __init__(self, name, breed, owner):\n",
        "    self.name = name\n",
        "    self.breed = breed\n",
        "    self.owner = owner # This will be an Owner object\n",
        "\n",
        "  def bark(self):\n",
        "    print(\"Whoof whoof!\")\n",
        "\n",
        "  def display_dog_info(self):\n",
        "    print(f\"Dog Name: {self.name}\")\n",
        "    print(f\"Dog Breed: {self.breed}\")\n",
        "    print(\"Owner Information:\")\n",
        "    self.owner.display_owner_info() # Call the method of the Owner object\n",
        "\n",
        "# Create an Owner object\n",
        "owner1 = Owner(\"Alice Smith\", \"123 Main St\", \"555-1234\")\n",
        "\n",
        "# Create a Dog object and assign the owner object to it\n",
        "dog1 = Dog(\"Buddy\", \"Golden Retriever\", owner1)\n",
        "\n",
        "# Display dog and owner information\n",
        "dog1.display_dog_info()\n",
        "\n",
        "print(\"-\" * 20) # Separator\n",
        "\n",
        "# Create another Owner object\n",
        "owner2 = Owner(\"Bob Johnson\", \"456 Oak Ave\", \"555-5678\")\n",
        "\n",
        "# Create another Dog object with the second owner\n",
        "dog2 = Dog(\"Lucy\", \"Labrador\", owner2)\n",
        "\n",
        "# Display the second dog and owner information\n",
        "dog2.display_dog_info()"
      ],
      "execution_count": 21,
      "outputs": [
        {
          "output_type": "stream",
          "name": "stdout",
          "text": [
            "Dog Name: Buddy\n",
            "Dog Breed: Golden Retriever\n",
            "Owner Information:\n",
            "  Owner Name: Alice Smith\n",
            "  Address: 123 Main St\n",
            "  Phone Number: 555-1234\n",
            "--------------------\n",
            "Dog Name: Lucy\n",
            "Dog Breed: Labrador\n",
            "Owner Information:\n",
            "  Owner Name: Bob Johnson\n",
            "  Address: 456 Oak Ave\n",
            "  Phone Number: 555-5678\n"
          ]
        }
      ]
    },
    {
      "cell_type": "code",
      "source": [
        "dog1.owner.name"
      ],
      "metadata": {
        "colab": {
          "base_uri": "https://localhost:8080/",
          "height": 36
        },
        "id": "Gb_uD49uuAKz",
        "outputId": "1516e1f4-b467-4490-96da-4c2013fe61ea"
      },
      "execution_count": 22,
      "outputs": [
        {
          "output_type": "execute_result",
          "data": {
            "text/plain": [
              "'Alice Smith'"
            ],
            "application/vnd.google.colaboratory.intrinsic+json": {
              "type": "string"
            }
          },
          "metadata": {},
          "execution_count": 22
        }
      ]
    },
    {
      "cell_type": "code",
      "source": [
        "dog2.owner.name"
      ],
      "metadata": {
        "colab": {
          "base_uri": "https://localhost:8080/",
          "height": 36
        },
        "id": "VjMr2LNuuDIG",
        "outputId": "f9a873ec-3831-440e-917c-595f112d2ad5"
      },
      "execution_count": 23,
      "outputs": [
        {
          "output_type": "execute_result",
          "data": {
            "text/plain": [
              "'Bob Johnson'"
            ],
            "application/vnd.google.colaboratory.intrinsic+json": {
              "type": "string"
            }
          },
          "metadata": {},
          "execution_count": 23
        }
      ]
    },
    {
      "cell_type": "code",
      "metadata": {
        "colab": {
          "base_uri": "https://localhost:8080/"
        },
        "id": "735cde09",
        "outputId": "e972102b-8608-464a-a851-4efc1c64ec81"
      },
      "source": [
        "# Define a class called Person\n",
        "# A class is a blueprint for creating objects (like a template)\n",
        "class Person:\n",
        "  # The __init__ method is the constructor.\n",
        "  # It's called when you create a new object from the class.\n",
        "  # 'self' refers to the instance of the class being created.\n",
        "  # 'name' and 'age' are parameters to initialize the object's attributes.\n",
        "  def __init__(self, name, age):\n",
        "    # Attributes are variables that belong to an object.\n",
        "    # They store data about the object.\n",
        "    self.name = name  # This is the 'name' attribute\n",
        "    self.age = age    # This is the 'age' attribute\n",
        "\n",
        "  # Define a method called greet\n",
        "  # A method is a function that belongs to an object.\n",
        "  # It defines the behavior of the object.\n",
        "  def greet(self):\n",
        "    # Inside the method, we can access the object's attributes using 'self'.\n",
        "    print(f\"Hello, my name is {self.name} and I am {self.age} years old.\")\n",
        "\n",
        "# Create an object (an instance) of the Person class\n",
        "# When we do this, the __init__ method is called with the provided values.\n",
        "person1 = Person(\"Alice\", 30)\n",
        "\n",
        "# Access the attributes of the person1 object\n",
        "print(f\"Person 1's name is: {person1.name}\")\n",
        "print(f\"Person 1's age is: {person1.age}\")\n",
        "\n",
        "# Call the greet method of the person1 object\n",
        "print(\"Person 1 greeting:\")\n",
        "person1.greet()\n",
        "\n",
        "# Create another person object\n",
        "person2 = Person(\"Bob\", 25)\n",
        "\n",
        "print(f\"\\nPerson 2's name is: {person2.name}\")\n",
        "print(f\"Person 2's age is: {person2.age}\")\n",
        "\n",
        "person2.greet()"
      ],
      "execution_count": 25,
      "outputs": [
        {
          "output_type": "stream",
          "name": "stdout",
          "text": [
            "Person 1's name is: Alice\n",
            "Person 1's age is: 30\n",
            "Person 1 greeting:\n",
            "Hello, my name is Alice and I am 30 years old.\n",
            "\n",
            "Person 2's name is: Bob\n",
            "Person 2's age is: 25\n",
            "Hello, my name is Bob and I am 25 years old.\n"
          ]
        }
      ]
    },
    {
      "cell_type": "code",
      "metadata": {
        "colab": {
          "base_uri": "https://localhost:8080/"
        },
        "id": "cd374511",
        "outputId": "c908a8fd-168f-41ad-b2b0-630319747bf8"
      },
      "source": [
        "class User:\n",
        "  def __init__(self, username, email, password):\n",
        "    self._username = username  # Use a leading underscore to indicate a \"private\" attribute\n",
        "    self.email = email\n",
        "    self.password = password\n",
        "\n",
        "  # Getter method for username\n",
        "  def get_username(self):\n",
        "    return self._username\n",
        "\n",
        "  # Setter method for username\n",
        "  def set_username(self, new_username):\n",
        "    if new_username: # Basic validation: ensure the new username is not empty\n",
        "      self._username = new_username\n",
        "    else:\n",
        "      print(\"Username cannot be empty.\")\n",
        "\n",
        "\n",
        "  def say_hi_to_user(self, other_user):\n",
        "    print(f\"Hi {other_user.get_username()}! My name is {self.get_username()}.\")\n",
        "\n",
        "# Create two User objects\n",
        "user1 = User(\"alice_123\", \"alice@example.com\", \"secure_pass_1\")\n",
        "user2 = User(\"bob_456\", \"bob@example.com\", \"another_secure_pass_2\")\n",
        "\n",
        "# Have user1 say hi to user2 (using getter)\n",
        "user1.say_hi_to_user(user2)\n",
        "\n",
        "# Have user2 say hi to user1 (using getter)\n",
        "user2.say_hi_to_user(user1)\n",
        "\n",
        "print(\"\\nOriginal username of user1:\", user1.get_username())\n",
        "\n",
        "# Change the username of user1 using the setter\n",
        "user1.set_username(\"alice_new\")\n",
        "\n",
        "print(\"New username of user1:\", user1.get_username())\n",
        "\n",
        "# Attempt to set an empty username\n",
        "user1.set_username(\"\")\n",
        "\n",
        "print(\"Username of user1 after attempting to set empty:\", user1.get_username())"
      ],
      "execution_count": 27,
      "outputs": [
        {
          "output_type": "stream",
          "name": "stdout",
          "text": [
            "Hi bob_456! My name is alice_123.\n",
            "Hi alice_123! My name is bob_456.\n",
            "\n",
            "Original username of user1: alice_123\n",
            "New username of user1: alice_new\n",
            "Username cannot be empty.\n",
            "Username of user1 after attempting to set empty: alice_new\n"
          ]
        }
      ]
    },
    {
      "cell_type": "markdown",
      "metadata": {
        "id": "7aea2b1d"
      },
      "source": [
        "### Protected Attributes (using single underscore)\n",
        "\n",
        "Attributes with a single leading underscore (`_attribute_name`) are considered \"protected\" by convention. This means they are intended for internal use within the class and its subclasses. While you *can* still access them from outside the class, it's generally understood that you shouldn't modify them directly unless you have a good reason."
      ]
    },
    {
      "cell_type": "code",
      "metadata": {
        "colab": {
          "base_uri": "https://localhost:8080/"
        },
        "id": "80a4af9c",
        "outputId": "bb63e11b-ea0e-4605-82a2-e12738a8eba6"
      },
      "source": [
        "class MyClass:\n",
        "  def __init__(self):\n",
        "    # This is a \"protected\" attribute\n",
        "    self._protected_attribute = \"I am protected\"\n",
        "\n",
        "  def access_protected(self):\n",
        "    # We can access the protected attribute from within the class\n",
        "    print(\"Inside class:\", self._protected_attribute)\n",
        "\n",
        "# Create an object of MyClass\n",
        "obj = MyClass()\n",
        "\n",
        "# Accessing the protected attribute from outside the class (possible but discouraged)\n",
        "print(\"Outside class (direct access):\", obj._protected_attribute)\n",
        "\n",
        "# Calling the method that accesses the protected attribute\n",
        "obj.access_protected()\n",
        "\n",
        "# Modifying the protected attribute from outside (possible but discouraged), we should do it using gettera nd setters like the above code\n",
        "obj._protected_attribute = \"I have been changed from outside\"\n",
        "print(\"Outside class (after modification):\", obj._protected_attribute)"
      ],
      "execution_count": 30,
      "outputs": [
        {
          "output_type": "stream",
          "name": "stdout",
          "text": [
            "Outside class (direct access): I am protected\n",
            "Inside class: I am protected\n",
            "Outside class (after modification): I have been changed from outside\n"
          ]
        }
      ]
    },
    {
      "cell_type": "markdown",
      "metadata": {
        "id": "4451819d"
      },
      "source": [
        "**Explanation:**\n",
        "\n",
        "*   We have a class `MyClass` with an attribute `_protected_attribute`. The single underscore signifies it's protected.\n",
        "*   Inside the `access_protected` method, we can easily access `self._protected_attribute`.\n",
        "*   From outside the class (when creating `obj`), we can still access `obj._protected_attribute` directly.\n",
        "*   We can also modify it directly from outside, although this goes against the intended use of protected attributes."
      ]
    },
    {
      "cell_type": "markdown",
      "metadata": {
        "id": "eb651a96"
      },
      "source": [
        "### \"Private\" Attributes (using double underscore)\n",
        "\n",
        "Attributes with two leading underscores (e.g., `__attribute_name`) are considered \"private\". Python uses a technique called \"name mangling\" to make it harder to access these attributes directly from outside the class."
      ]
    },
    {
      "cell_type": "code",
      "metadata": {
        "colab": {
          "base_uri": "https://localhost:8080/"
        },
        "id": "0ae4b415",
        "outputId": "a223077d-692c-45ff-e098-1d6a85502adb"
      },
      "source": [
        "class AnotherClass:\n",
        "  def __init__(self):\n",
        "    # This is a \"private\" attribute (name mangled)\n",
        "    self.__private_attribute = \"I am private\"\n",
        "\n",
        "  def access_private(self):\n",
        "    # We can access the private attribute from within the class\n",
        "    print(\"Inside class:\", self.__private_attribute)\n",
        "\n",
        "# Create an object of AnotherClass\n",
        "another_obj = AnotherClass()\n",
        "\n",
        "# Calling the method that accesses the private attribute\n",
        "another_obj.access_private()\n",
        "\n",
        "# Attempting to access the private attribute directly from outside (will cause an error)\n",
        "try:\n",
        "  print(\"Outside class (direct access):\", another_obj.__private_attribute)\n",
        "except AttributeError as e:\n",
        "  print(\"Error when trying to access private attribute directly:\", e)\n",
        "\n",
        "# How Python actually stores the \"private\" attribute (name mangling)\n",
        "# You can access it using this mangled name, but it's not intended for direct use.\n",
        "print(\"Accessing private attribute using name mangling:\", another_obj._AnotherClass__private_attribute)"
      ],
      "execution_count": 31,
      "outputs": [
        {
          "output_type": "stream",
          "name": "stdout",
          "text": [
            "Inside class: I am private\n",
            "Error when trying to access private attribute directly: 'AnotherClass' object has no attribute '__private_attribute'\n",
            "Accessing private attribute using name mangling: I am private\n"
          ]
        }
      ]
    },
    {
      "cell_type": "markdown",
      "metadata": {
        "id": "6fd69d17"
      },
      "source": [
        "**Explanation:**\n",
        "\n",
        "*   We have a class `AnotherClass` with an attribute `__private_attribute`. The double underscore triggers name mangling.\n",
        "*   Inside the `access_private` method, we can access `self.__private_attribute` normally.\n",
        "*   When we try to access `another_obj.__private_attribute` from outside, we get an `AttributeError` because Python has changed the internal name of the attribute.\n",
        "*   The internal name is mangled to `_ClassName__attribute_name` (in this case, `_AnotherClass__private_attribute`). While you *can* use this mangled name to access it, this is not the standard way and defeats the purpose of the double underscore.\n",
        "\n",
        "In both cases, using methods (like `access_protected` or `access_private`) within the class is the standard and recommended way to interact with these attributes from outside. Getters and setters are a good example of such methods for controlled access and modification."
      ]
    },
    {
      "cell_type": "markdown",
      "metadata": {
        "id": "3f882d37"
      },
      "source": [
        "### Using Python `property` for Controlled Access\n",
        "\n",
        "Python's built-in `property()` function or the `@property` decorator are commonly used to provide controlled access to attributes. They allow you to define methods for getting, setting, and deleting an attribute, while still accessing it like a regular attribute. This is often used with attributes that you want to treat as \"private\" (by convention, using a single underscore)."
      ]
    },
    {
      "cell_type": "code",
      "metadata": {
        "colab": {
          "base_uri": "https://localhost:8080/"
        },
        "id": "27d46c13",
        "outputId": "776d677d-9976-4136-fddd-c73da93ed233"
      },
      "source": [
        "class MyClassWithProperty:\n",
        "  def __init__(self):\n",
        "    # Conventionally \"private\" attribute\n",
        "    self._my_attribute = \"Initial value\"\n",
        "\n",
        "  # Getter using @property decorator\n",
        "  @property\n",
        "  def my_attribute(self):\n",
        "    \"\"\"Getter for my_attribute.\"\"\"\n",
        "    print(\"Getting the value...\")\n",
        "    return self._my_attribute\n",
        "\n",
        "  # Setter using @my_attribute.setter decorator\n",
        "  @my_attribute.setter\n",
        "  def my_attribute(self, value):\n",
        "    \"\"\"Setter for my_attribute with basic validation.\"\"\"\n",
        "    print(\"Setting the value...\")\n",
        "    if isinstance(value, str) and len(value) > 0: # Basic validation\n",
        "      self._my_attribute = value\n",
        "    else:\n",
        "      print(\"Invalid value. my_attribute must be a non-empty string.\")\n",
        "\n",
        "  # Deleter using @my_attribute.deleter decorator (optional)\n",
        "  @my_attribute.deleter\n",
        "  def my_attribute(self):\n",
        "    \"\"\"Deleter for my_attribute.\"\"\"\n",
        "    print(\"Deleting the value...\")\n",
        "    del self._my_attribute\n",
        "\n",
        "# Create an object\n",
        "obj_with_property = MyClassWithProperty()\n",
        "\n",
        "# Accessing the attribute using the getter\n",
        "print(\"Accessing value:\", obj_with_property.my_attribute)\n",
        "\n",
        "# Setting the attribute using the setter\n",
        "obj_with_property.my_attribute = \"New value\"\n",
        "print(\"Accessing value after setting:\", obj_with_property.my_attribute)\n",
        "\n",
        "# Attempting to set an invalid value\n",
        "obj_with_property.my_attribute = \"\" # This will trigger the validation in the setter\n",
        "\n",
        "# Deleting the attribute (if deleter is defined)\n",
        "# del obj_with_property.my_attribute\n",
        "# print(\"Accessing value after deleting:\", obj_with_property.my_attribute) # This would cause an AttributeError"
      ],
      "execution_count": 32,
      "outputs": [
        {
          "output_type": "stream",
          "name": "stdout",
          "text": [
            "Getting the value...\n",
            "Accessing value: Initial value\n",
            "Setting the value...\n",
            "Getting the value...\n",
            "Accessing value after setting: New value\n",
            "Setting the value...\n",
            "Invalid value. my_attribute must be a non-empty string.\n"
          ]
        }
      ]
    },
    {
      "cell_type": "markdown",
      "metadata": {
        "id": "03e4df43"
      },
      "source": [
        "**Explanation:**\n",
        "\n",
        "*   We define a class `MyClassWithProperty` with a conventionally \"private\" attribute `_my_attribute`.\n",
        "*   The `@property` decorator is placed above a method with the same name as the attribute we want to control (`my_attribute`). This method becomes the **getter**. When you access `obj_with_property.my_attribute`, this method is automatically called.\n",
        "*   The `@my_attribute.setter` decorator is used for the method that will act as the **setter**. This method takes an extra argument (`value`) which is the value being assigned. When you do `obj_with_property.my_attribute = \"New value\"`, this setter method is called. We added a basic validation check in the setter.\n",
        "*   The `@my_attribute.deleter` decorator is used for the **deleter** method (optional). If you use `del obj_with_property.my_attribute`, this method is called.\n",
        "*   Notice that even though we have getter and setter *methods*, we interact with `my_attribute` as if it were a regular attribute (`obj_with_property.my_attribute`). The `@property` decorator handles routing the access to the appropriate method.\n",
        "\n",
        "This approach is often preferred over explicitly calling `get_attribute()` and `set_attribute()` methods because it makes the code cleaner and more readable, while still providing the benefits of controlled access and encapsulation."
      ]
    },
    {
      "cell_type": "code",
      "metadata": {
        "colab": {
          "base_uri": "https://localhost:8080/"
        },
        "id": "c7457905",
        "outputId": "aa0a22db-1a3a-4ff8-9c81-24dc2de5b40d"
      },
      "source": [
        "class User:\n",
        "  # This is a static (class) attribute\n",
        "  # It belongs to the class itself and is shared among all instances.\n",
        "  user_count = 0\n",
        "\n",
        "  def __init__(self, username, email):\n",
        "    # These are instance attributes\n",
        "    # Each user object will have its own unique username and email.\n",
        "    self.username = username\n",
        "    self.email = email\n",
        "\n",
        "    # When a new user is created, increment the static user_count\n",
        "    User.user_count += 1 # Accessing the static attribute using the class name\n",
        "\n",
        "  # This is an instance method\n",
        "  # It operates on a specific instance (object) of the class.\n",
        "  # 'self' refers to the current user object.\n",
        "  def display_user(self):\n",
        "    print(f\"Username: {self.username}, Email: {self.email}\")\n",
        "\n",
        "# Create three user instances\n",
        "user1 = User(\"alice_123\", \"alice@example.com\")\n",
        "user2 = User(\"bob_456\", \"bob@example.com\")\n",
        "user3 = User(\"charlie_789\", \"charlie@example.com\")\n",
        "\n",
        "print(\"--- Displaying Users ---\")\n",
        "user1.display_user()\n",
        "user2.display_user()\n",
        "user3.display_user()\n",
        "\n",
        "# Print the total number of users using the static attribute\n",
        "print(f\"\\nTotal number of users created: {User.user_count}\")"
      ],
      "execution_count": 33,
      "outputs": [
        {
          "output_type": "stream",
          "name": "stdout",
          "text": [
            "--- Displaying Users ---\n",
            "Username: alice_123, Email: alice@example.com\n",
            "Username: bob_456, Email: bob@example.com\n",
            "Username: charlie_789, Email: charlie@example.com\n",
            "\n",
            "Total number of users created: 3\n"
          ]
        }
      ]
    },
    {
      "cell_type": "markdown",
      "metadata": {
        "id": "113f9c30"
      },
      "source": [
        "**Explanation:**\n",
        "\n",
        "1.  **`user_count = 0`**: This defines a **static attribute** (or class attribute) called `user_count` and initializes it to 0. This attribute belongs to the `User` class itself, not to any specific user object. There is only one copy of `user_count` that is shared by all `User` instances.\n",
        "\n",
        "2.  **`__init__(self, username, email)`**: This is the constructor method.\n",
        "    *   `self`: Represents the instance (the specific user object) being created.\n",
        "    *   `self.username = username` and `self.email = email`: These lines create **instance attributes** (`username` and `email`) for the specific `User` object being initialized. Each user object will have its own unique `username` and `email`.\n",
        "    *   `User.user_count += 1`: This line increments the **static attribute** `user_count` by 1 each time a new `User` object is created. We use `User.user_count` to access the static attribute through the class name, which is the recommended way to show you are working with the class-level attribute.\n",
        "\n",
        "3.  **`display_user(self)`**: This is an **instance method**.\n",
        "    *   `self`: Again, this refers to the specific user object on which the method is called (e.g., `user1`, `user2`, or `user3`).\n",
        "    *   `print(f\"Username: {self.username}, Email: {self.email}\")`: Inside this method, we use `self.username` and `self.email` to access the **instance attributes** of that particular user object and print them.\n",
        "\n",
        "4.  **Creating Instances and Accessing `user_count`:**\n",
        "    *   `user1 = User(...)`, `user2 = User(...)`, `user3 = User(...)`: These lines create three different `User` objects. Each time `__init__` is called, a new set of `username` and `email` instance attributes are created for that object, and the shared `user_count` is incremented.\n",
        "    *   `print(f\"\\nTotal number of users created: {User.user_count}\")`: We access the final value of the static attribute `user_count` using the class name (`User.user_count`) to see how many user objects were created.\n",
        "\n",
        "In summary, instance attributes (`username`, `email`) are unique to each object and accessed with `self`, while static attributes (`user_count`) are shared by all objects and typically accessed using the class name."
      ]
    },
    {
      "cell_type": "markdown",
      "source": [
        "Using staic when we need to count user created, it is share amoung all the instances in a class.\n",
        ""
      ],
      "metadata": {
        "id": "bu0XiBXE--I1"
      }
    },
    {
      "cell_type": "code",
      "source": [],
      "metadata": {
        "id": "VEYReyRx_UC8"
      },
      "execution_count": null,
      "outputs": []
    },
    {
      "cell_type": "code",
      "metadata": {
        "colab": {
          "base_uri": "https://localhost:8080/"
        },
        "id": "50d71873",
        "outputId": "a86835b5-9156-4aee-d9c2-72fb37dace7f"
      },
      "source": [
        "class BankAccount:\n",
        "  # Static attribute: shared by all instances\n",
        "  min_balance = 0\n",
        "\n",
        "  def __init__(self, owner, balance=0):\n",
        "    # Instance attributes: unique to each instance\n",
        "    self.owner = owner\n",
        "    self.balance = balance\n",
        "\n",
        "  # Instance method: operates on an instance and uses its data\n",
        "  def deposit(self, amount):\n",
        "    if amount > 0:\n",
        "      self.balance += amount\n",
        "      print(f\"Deposited {amount}. New balance: {self.balance}\")\n",
        "    else:\n",
        "      print(\"Deposit amount must be positive.\")\n",
        "\n",
        "  # Static method: belongs to the class, doesn't use instance or class data directly\n",
        "  # Often used for utility functions related to the class.\n",
        "  @staticmethod\n",
        "  def is_valid_interest_rate(rate):\n",
        "    \"\"\"Checks if the interest rate is valid (between 0 and 5 inclusive).\"\"\"\n",
        "    return 0 <= rate <= 5\n",
        "\n",
        "# Create instances of BankAccount\n",
        "account1 = BankAccount(\"Alice\")\n",
        "account2 = BankAccount(\"Bob\", 100)\n",
        "\n",
        "print(f\"{account1.owner}'s initial balance: {account1.balance}\")\n",
        "print(f\"{account2.owner}'s initial balance: {account2.balance}\")\n",
        "\n",
        "# Use the instance method deposit()\n",
        "account1.deposit(50)\n",
        "account2.deposit(200)\n",
        "account1.deposit(-10) # Invalid deposit\n",
        "\n",
        "# Use the static method is_valid_interest_rate() via the class name\n",
        "print(\"\\nChecking interest rates:\")\n",
        "print(f\"Is 3% a valid rate? {BankAccount.is_valid_interest_rate(3)}\")\n",
        "print(f\"Is 6% a valid rate? {BankAccount.is_valid_interest_rate(6)}\")\n",
        "\n",
        "# You can also call a static method via an instance, but it's less common and less clear\n",
        "print(f\"Is 4% a valid rate (via instance)? {account1.is_valid_interest_rate(4)}\")"
      ],
      "execution_count": 35,
      "outputs": [
        {
          "output_type": "stream",
          "name": "stdout",
          "text": [
            "Alice's initial balance: 0\n",
            "Bob's initial balance: 100\n",
            "Deposited 50. New balance: 50\n",
            "Deposited 200. New balance: 300\n",
            "Deposit amount must be positive.\n",
            "\n",
            "Checking interest rates:\n",
            "Is 3% a valid rate? True\n",
            "Is 6% a valid rate? False\n",
            "Is 4% a valid rate (via instance)? True\n"
          ]
        }
      ]
    },
    {
      "cell_type": "markdown",
      "metadata": {
        "id": "7d6fa88c"
      },
      "source": [
        "**Explanation:**\n",
        "\n",
        "1.  **`min_balance = 0`**: This is a **static attribute**. It's a piece of data that belongs to the `BankAccount` class itself and is shared by all individual bank account objects. There's only one `min_balance` for the entire class.\n",
        "\n",
        "2.  **`__init__(self, owner, balance=0)`**: This is the constructor, an **instance method**.\n",
        "    *   `self`: Refers to the specific bank account object being created.\n",
        "    *   `self.owner = owner` and `self.balance = balance`: These create **instance attributes** (`owner` and `balance`). Each bank account object has its own unique `owner` and `balance`.\n",
        "\n",
        "3.  **`deposit(self, amount)`**: This is an **instance method**.\n",
        "    *   It takes `self` as the first parameter, meaning it operates on a specific instance (`account1` or `account2`).\n",
        "    *   Inside the method, it accesses and modifies the `balance` **instance attribute** of that particular object (`self.balance`).\n",
        "    *   It performs an action related to a specific bank account.\n",
        "\n",
        "4.  **`@staticmethod` and `is_valid_interest_rate(rate)`**:\n",
        "    *   `@staticmethod`: This is a decorator that tells Python the method below it is a **static method**.\n",
        "    *   `def is_valid_interest_rate(rate):`: This is a **static method**.\n",
        "        *   It *does not* take `self` (or `cls`) as its first parameter.\n",
        "        *   It *does not* operate on a specific instance's data.\n",
        "        *   It *does not* operate on the class's data (`min_balance`) directly (though it could if needed, but it's not its primary purpose).\n",
        "        *   It's essentially a regular function that happens to be defined inside the class because its functionality is logically related to the class (checking if an interest rate is valid for a bank account context).\n",
        "    *   Static methods are typically called using the class name (`BankAccount.is_valid_interest_rate(...)`).\n",
        "\n",
        "**Key Differences:**\n",
        "\n",
        "*   **Instance methods** operate on the data of a specific object (`self`).\n",
        "*   **Static methods** do not operate on instance data (`self`) or class data (`cls`) directly. They are more like utility functions associated with the class.\n",
        "\n",
        "**When to use them:**\n",
        "\n",
        "*   Use **instance methods** for actions that involve the specific state (attributes) of an object (like depositing money into *this* account).\n",
        "*   Use **static methods** for utility functions that have a logical connection to the class but don't need to access or modify instance or class-specific data (like a general validation rule related to the domain of bank accounts)."
      ]
    }
  ]
}