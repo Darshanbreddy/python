{
  "nbformat": 4,
  "nbformat_minor": 0,
  "metadata": {
    "colab": {
      "provenance": [],
      "authorship_tag": "ABX9TyNE7/u2fZGhtAznJ2zRq8fX",
      "include_colab_link": true
    },
    "kernelspec": {
      "name": "python3",
      "display_name": "Python 3"
    },
    "language_info": {
      "name": "python"
    }
  },
  "cells": [
    {
      "cell_type": "markdown",
      "metadata": {
        "id": "view-in-github",
        "colab_type": "text"
      },
      "source": [
        "<a href=\"https://colab.research.google.com/github/Darshanbreddy/python/blob/main/OOPS.ipynb\" target=\"_parent\"><img src=\"https://colab.research.google.com/assets/colab-badge.svg\" alt=\"Open In Colab\"/></a>"
      ]
    },
    {
      "cell_type": "code",
      "execution_count": 16,
      "metadata": {
        "id": "RBtRU36JkVVy"
      },
      "outputs": [],
      "source": [
        "name = \"danny\""
      ]
    },
    {
      "cell_type": "code",
      "source": [
        "age =28"
      ],
      "metadata": {
        "id": "2DI-N9OjkgZc"
      },
      "execution_count": 2,
      "outputs": []
    },
    {
      "cell_type": "code",
      "source": [
        "print(type(name))"
      ],
      "metadata": {
        "colab": {
          "base_uri": "https://localhost:8080/"
        },
        "id": "dwXAUztEki_w",
        "outputId": "96b6fba1-8159-4ec8-d7f9-f404cc80b635"
      },
      "execution_count": 3,
      "outputs": [
        {
          "output_type": "stream",
          "name": "stdout",
          "text": [
            "<class 'str'>\n"
          ]
        }
      ]
    },
    {
      "cell_type": "code",
      "source": [
        "print(type(age))"
      ],
      "metadata": {
        "colab": {
          "base_uri": "https://localhost:8080/"
        },
        "id": "H_kHHdijkoW1",
        "outputId": "7a79791f-e11f-43bd-c1a6-13fca9045cc0"
      },
      "execution_count": 4,
      "outputs": [
        {
          "output_type": "stream",
          "name": "stdout",
          "text": [
            "<class 'int'>\n"
          ]
        }
      ]
    },
    {
      "cell_type": "code",
      "source": [
        "print(name.upper())"
      ],
      "metadata": {
        "colab": {
          "base_uri": "https://localhost:8080/"
        },
        "id": "a6xmCA3hkrMm",
        "outputId": "5062ca57-4957-49b1-f12d-db371b85d3e2"
      },
      "execution_count": 17,
      "outputs": [
        {
          "output_type": "stream",
          "name": "stdout",
          "text": [
            "DANNY\n"
          ]
        }
      ]
    },
    {
      "cell_type": "markdown",
      "source": [
        "Till now we have used a buit in class for string called upper which converted a string in small letters to upper letters. Everything created in python is an object. We can see name variable is a string object and age is int object"
      ],
      "metadata": {
        "id": "8GAXRq0nlvpz"
      }
    },
    {
      "cell_type": "markdown",
      "source": [
        " We can also create our own classes and instance which are also called as Objects"
      ],
      "metadata": {
        "id": "WqycfW5OmRlx"
      }
    },
    {
      "cell_type": "code",
      "source": [
        "class Dog:                           #class is like an blueprint for creating a object\n",
        "  def __init__(self,name,breed,Owner): #Self is a instance of a sepcific object of class itself\n",
        "    self.name=name                   #class defines what attribues/data the objects created from it will have\n",
        "    self.breed=breed\n",
        "    self.owner=Owner\n",
        "  def bark(self):                    #class defines what methods/functions the objects created from it will have\n",
        "    print(\"Woff\")\n",
        "  def greet(self):\n",
        "    print(f\"hello, I am {self.name} and my owner is {self.owner.name} \")\n",
        "\n",
        "class Owner:\n",
        "  def __init__(self,name,address,conact_number):\n",
        "    self.name=name\n",
        "    self.address=address\n",
        "    self.phone=conact_number"
      ],
      "metadata": {
        "id": "STDsOz7dm8ZH"
      },
      "execution_count": 53,
      "outputs": []
    },
    {
      "cell_type": "code",
      "source": [
        "owner1=Owner(\"o1\",\"add1\",808)         #object of owner class, which is an instance of owner\n",
        "dog1= Dog(\"bruce\",\"lab\",owner1)       #object of dog class, which is an instance of owner\n",
        "print(dog1.owner.name)  #Accessing owner using dot  notation"
      ],
      "metadata": {
        "colab": {
          "base_uri": "https://localhost:8080/"
        },
        "id": "iyeLTq1qnJoC",
        "outputId": "06b91de0-bba0-4ce8-e2a4-afc807b55c94"
      },
      "execution_count": 54,
      "outputs": [
        {
          "output_type": "stream",
          "name": "stdout",
          "text": [
            "o1\n"
          ]
        }
      ]
    },
    {
      "cell_type": "code",
      "source": [
        "owner2=Owner(\"o2\",\"add2\",802)\n",
        "dog2=Dog(\"Freya\",\"Greyhound\",owner2)\n",
        "print(dog2.breed)\n",
        "print(dog2.owner.phone)"
      ],
      "metadata": {
        "colab": {
          "base_uri": "https://localhost:8080/"
        },
        "id": "_-e9pQ9znXfs",
        "outputId": "572c098d-ef86-4c8b-f4ce-8099e94721e4"
      },
      "execution_count": 55,
      "outputs": [
        {
          "output_type": "stream",
          "name": "stdout",
          "text": [
            "Greyhound\n",
            "802\n"
          ]
        }
      ]
    },
    {
      "cell_type": "code",
      "source": [
        "dog1.greet()"
      ],
      "metadata": {
        "colab": {
          "base_uri": "https://localhost:8080/"
        },
        "id": "SK2pKRMLsf_r",
        "outputId": "b0261512-db20-4241-833f-f7332af7b898"
      },
      "execution_count": 56,
      "outputs": [
        {
          "output_type": "stream",
          "name": "stdout",
          "text": [
            "hello, I am bruce and my owner is o1 \n"
          ]
        }
      ]
    },
    {
      "cell_type": "markdown",
      "source": [
        "We can define attributes and data for an object in init mehtod and functions of that object in a function"
      ],
      "metadata": {
        "id": "odWF8rLNr4Wt"
      }
    },
    {
      "cell_type": "code",
      "source": [
        "class User:\n",
        "  def __init__(self,uname,email,passw):\n",
        "    self.uname=uname\n",
        "    self.email=email\n",
        "    self.passw=passw\n",
        "\n",
        "  def say_hi(self,user):\n",
        "    print(f\"Hi {user.uname}, This is {self.uname}\")"
      ],
      "metadata": {
        "id": "eFpx7iM-rg8p"
      },
      "execution_count": 57,
      "outputs": []
    },
    {
      "cell_type": "code",
      "source": [
        "user1=User(\"User1\",\"email1\",\"pass1\")\n",
        "user2=User(\"User2\",\"email2\",\"pass2\")"
      ],
      "metadata": {
        "id": "fDTBqvwi0cCU"
      },
      "execution_count": 58,
      "outputs": []
    },
    {
      "cell_type": "code",
      "source": [
        "user1.say_hi(user2)"
      ],
      "metadata": {
        "colab": {
          "base_uri": "https://localhost:8080/"
        },
        "id": "gp2oc3FH0jC6",
        "outputId": "04b60228-0ec1-4349-cf7a-96ee1e60cf3e"
      },
      "execution_count": 59,
      "outputs": [
        {
          "output_type": "stream",
          "name": "stdout",
          "text": [
            "Hi User2, This is User1\n"
          ]
        }
      ]
    },
    {
      "cell_type": "code",
      "source": [],
      "metadata": {
        "id": "4PvWym4V0vDz"
      },
      "execution_count": null,
      "outputs": []
    }
  ]
}