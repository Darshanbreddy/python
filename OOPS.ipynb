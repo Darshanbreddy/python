{
  "nbformat": 4,
  "nbformat_minor": 0,
  "metadata": {
    "colab": {
      "provenance": [],
      "gpuType": "V28",
      "authorship_tag": "ABX9TyNfLojIqSVQW2ZHg68SX8dn",
      "include_colab_link": true
    },
    "kernelspec": {
      "name": "python3",
      "display_name": "Python 3"
    },
    "language_info": {
      "name": "python"
    },
    "accelerator": "TPU"
  },
  "cells": [
    {
      "cell_type": "markdown",
      "metadata": {
        "id": "view-in-github",
        "colab_type": "text"
      },
      "source": [
        "<a href=\"https://colab.research.google.com/github/Darshanbreddy/python/blob/main/OOPS.ipynb\" target=\"_parent\"><img src=\"https://colab.research.google.com/assets/colab-badge.svg\" alt=\"Open In Colab\"/></a>"
      ]
    },
    {
      "cell_type": "code",
      "execution_count": 1,
      "metadata": {
        "id": "RBtRU36JkVVy"
      },
      "outputs": [],
      "source": [
        "name = \"danny\""
      ]
    },
    {
      "cell_type": "code",
      "source": [
        "age =28"
      ],
      "metadata": {
        "id": "2DI-N9OjkgZc"
      },
      "execution_count": 2,
      "outputs": []
    },
    {
      "cell_type": "code",
      "source": [
        "print(type(name))"
      ],
      "metadata": {
        "colab": {
          "base_uri": "https://localhost:8080/"
        },
        "id": "dwXAUztEki_w",
        "outputId": "c651ce14-95cf-4bc0-f2c0-b6f24001b90e"
      },
      "execution_count": 3,
      "outputs": [
        {
          "output_type": "stream",
          "name": "stdout",
          "text": [
            "<class 'str'>\n"
          ]
        }
      ]
    },
    {
      "cell_type": "code",
      "source": [
        "print(type(age))"
      ],
      "metadata": {
        "colab": {
          "base_uri": "https://localhost:8080/"
        },
        "id": "H_kHHdijkoW1",
        "outputId": "fd794f03-4934-4aca-83ed-ea7542117afc"
      },
      "execution_count": 4,
      "outputs": [
        {
          "output_type": "stream",
          "name": "stdout",
          "text": [
            "<class 'int'>\n"
          ]
        }
      ]
    },
    {
      "cell_type": "code",
      "source": [
        "print(name.upper())"
      ],
      "metadata": {
        "colab": {
          "base_uri": "https://localhost:8080/"
        },
        "id": "a6xmCA3hkrMm",
        "outputId": "1f1ec597-a57c-482c-c7d8-1dd97107d060"
      },
      "execution_count": 5,
      "outputs": [
        {
          "output_type": "stream",
          "name": "stdout",
          "text": [
            "DANNY\n"
          ]
        }
      ]
    },
    {
      "cell_type": "markdown",
      "source": [
        "Till now we have used a buit in class for string called upper which converted a string in small letters to upper letters. Everything created in python is an object. We can see name variable is a string object and age is int object"
      ],
      "metadata": {
        "id": "8GAXRq0nlvpz"
      }
    },
    {
      "cell_type": "markdown",
      "source": [
        " We can also create our own classes and instance which are also called as Objects"
      ],
      "metadata": {
        "id": "WqycfW5OmRlx"
      }
    },
    {
      "cell_type": "code",
      "source": [
        "class Dog:                           #class is like an blueprint for creating a object\n",
        "  def __init__(self,name,breed,Owner): #Self is a instance of a sepcific object of class itself\n",
        "    self.name=name                   #class defines what attribues/data the objects created from it will have\n",
        "    self.breed=breed\n",
        "    self.owner=Owner\n",
        "  def bark(self):                    #class defines what methods/functions the objects created from it will have\n",
        "    print(\"Woff\")\n",
        "  def greet(self):\n",
        "    print(f\"hello, I am {self.name} and my owner is {self.owner.name} \")\n",
        "\n",
        "class Owner:\n",
        "  def __init__(self,name,address,conact_number):\n",
        "    self.name=name\n",
        "    self.address=address\n",
        "    self.phone=conact_number"
      ],
      "metadata": {
        "id": "STDsOz7dm8ZH"
      },
      "execution_count": 6,
      "outputs": []
    },
    {
      "cell_type": "code",
      "source": [
        "owner1=Owner(\"o1\",\"add1\",808)         #object of owner class, which is an instance of owner\n",
        "dog1= Dog(\"bruce\",\"lab\",owner1)       #object of dog class, which is an instance of owner\n",
        "print(dog1.owner.name)  #Accessing owner using dot  notation"
      ],
      "metadata": {
        "colab": {
          "base_uri": "https://localhost:8080/"
        },
        "id": "iyeLTq1qnJoC",
        "outputId": "bccedef3-c077-4d73-eeea-b79ca30e950d"
      },
      "execution_count": 7,
      "outputs": [
        {
          "output_type": "stream",
          "name": "stdout",
          "text": [
            "o1\n"
          ]
        }
      ]
    },
    {
      "cell_type": "code",
      "source": [
        "owner2=Owner(\"o2\",\"add2\",802)\n",
        "dog2=Dog(\"Freya\",\"Greyhound\",owner2)\n",
        "print(dog2.breed)\n",
        "print(dog2.owner.phone)"
      ],
      "metadata": {
        "colab": {
          "base_uri": "https://localhost:8080/"
        },
        "id": "_-e9pQ9znXfs",
        "outputId": "959f0bcd-d9a2-4dd3-82d7-73d303cc0791"
      },
      "execution_count": 8,
      "outputs": [
        {
          "output_type": "stream",
          "name": "stdout",
          "text": [
            "Greyhound\n",
            "802\n"
          ]
        }
      ]
    },
    {
      "cell_type": "code",
      "source": [
        "dog1.greet()"
      ],
      "metadata": {
        "colab": {
          "base_uri": "https://localhost:8080/"
        },
        "id": "SK2pKRMLsf_r",
        "outputId": "aca3c83a-68f9-4c94-d3da-d4d7096be800"
      },
      "execution_count": 9,
      "outputs": [
        {
          "output_type": "stream",
          "name": "stdout",
          "text": [
            "hello, I am bruce and my owner is o1 \n"
          ]
        }
      ]
    },
    {
      "cell_type": "markdown",
      "source": [
        "We can define attributes and data for an object in init mehtod and functions of that object in a function"
      ],
      "metadata": {
        "id": "odWF8rLNr4Wt"
      }
    },
    {
      "cell_type": "code",
      "source": [
        "from datetime import datetime"
      ],
      "metadata": {
        "id": "OihxRF4c6D5y"
      },
      "execution_count": 10,
      "outputs": []
    },
    {
      "cell_type": "code",
      "source": [
        "class User:\n",
        "  def __init__(self,uname,email,passw):\n",
        "    self.uname=uname\n",
        "    self._email=email.lower().strip()     #proteced attribute it is not supposed to be read outsied of this class\n",
        "    self.__passw=passw                    #private attribute, python will change the name of the attribute so that it is inaccessable outside the class\n",
        "\n",
        "  def say_hi(self,user):\n",
        "    print(f\"Hi {user.uname}, This is {self.uname}\")\n",
        "\n",
        "  def get_email(self):     #getter method\n",
        "    print(f\"email accessed at {datetime.now()}\")\n",
        "    return self._email\n",
        "\n",
        "  def set_email(self,new_email):      #setter method\n",
        "    if not \"@\" in new_email:\n",
        "      raise Exception(\"Invalid email\")\n",
        "    self._email=new_email.lower().strip()\n",
        "\n",
        "  def get_passw(self):      #getter method\n",
        "    return self.__passw\n",
        "\n",
        "  def set_passw(self,new_passw):       #setter method\n",
        "    if len(new_passw)<8:\n",
        "      raise Exception(\"Password is too short\")\n",
        "    self.__passw=new_passw"
      ],
      "metadata": {
        "id": "eFpx7iM-rg8p"
      },
      "execution_count": 11,
      "outputs": []
    },
    {
      "cell_type": "code",
      "source": [
        "user1=User(\"User1\",\"EMAIL1@gmail.com    \",\"pass1\")\n",
        "user2=User(\"User2\",\"email2@gmail.com\",\"pass2\")"
      ],
      "metadata": {
        "id": "fDTBqvwi0cCU"
      },
      "execution_count": 12,
      "outputs": []
    },
    {
      "cell_type": "code",
      "source": [
        "user1.get_email()"
      ],
      "metadata": {
        "colab": {
          "base_uri": "https://localhost:8080/",
          "height": 53
        },
        "id": "1cUIea1C360l",
        "outputId": "bf947dd1-b774-4af8-b0a2-76a9c628b4f5"
      },
      "execution_count": 13,
      "outputs": [
        {
          "output_type": "stream",
          "name": "stdout",
          "text": [
            "email accessed at 2025-07-28 07:38:59.568243\n"
          ]
        },
        {
          "output_type": "execute_result",
          "data": {
            "text/plain": [
              "'email1@gmail.com'"
            ],
            "application/vnd.google.colaboratory.intrinsic+json": {
              "type": "string"
            }
          },
          "metadata": {},
          "execution_count": 13
        }
      ]
    },
    {
      "cell_type": "code",
      "source": [
        "user1.say_hi(user2)"
      ],
      "metadata": {
        "colab": {
          "base_uri": "https://localhost:8080/"
        },
        "id": "gp2oc3FH0jC6",
        "outputId": "ca8e0e3c-3cb8-41ca-e29e-54b03f10d9f2"
      },
      "execution_count": 14,
      "outputs": [
        {
          "output_type": "stream",
          "name": "stdout",
          "text": [
            "Hi User2, This is User1\n"
          ]
        }
      ]
    },
    {
      "cell_type": "code",
      "source": [
        "user1.uname=\"1user\""
      ],
      "metadata": {
        "id": "4PvWym4V0vDz"
      },
      "execution_count": 15,
      "outputs": []
    },
    {
      "cell_type": "code",
      "source": [
        "user1.say_hi(user2)"
      ],
      "metadata": {
        "colab": {
          "base_uri": "https://localhost:8080/"
        },
        "id": "70Gmz6Wb1mNY",
        "outputId": "5166149f-112a-4d00-9065-b15cec231004"
      },
      "execution_count": 16,
      "outputs": [
        {
          "output_type": "stream",
          "name": "stdout",
          "text": [
            "Hi User2, This is 1user\n"
          ]
        }
      ]
    },
    {
      "cell_type": "code",
      "source": [
        "user1.set_email(\"email\")"
      ],
      "metadata": {
        "colab": {
          "base_uri": "https://localhost:8080/",
          "height": 263
        },
        "id": "wmOv3S_Y8BJM",
        "outputId": "43e4a7d6-25cd-437f-b1f8-b762431a3d60"
      },
      "execution_count": 17,
      "outputs": [
        {
          "output_type": "error",
          "ename": "Exception",
          "evalue": "Invalid email",
          "traceback": [
            "\u001b[0;31m---------------------------------------------------------------------------\u001b[0m",
            "\u001b[0;31mException\u001b[0m                                 Traceback (most recent call last)",
            "\u001b[0;32m/tmp/ipython-input-17-3260609916.py\u001b[0m in \u001b[0;36m<cell line: 0>\u001b[0;34m()\u001b[0m\n\u001b[0;32m----> 1\u001b[0;31m \u001b[0muser1\u001b[0m\u001b[0;34m.\u001b[0m\u001b[0mset_email\u001b[0m\u001b[0;34m(\u001b[0m\u001b[0;34m\"email\"\u001b[0m\u001b[0;34m)\u001b[0m\u001b[0;34m\u001b[0m\u001b[0;34m\u001b[0m\u001b[0m\n\u001b[0m",
            "\u001b[0;32m/tmp/ipython-input-11-1503872332.py\u001b[0m in \u001b[0;36mset_email\u001b[0;34m(self, new_email)\u001b[0m\n\u001b[1;32m     14\u001b[0m   \u001b[0;32mdef\u001b[0m \u001b[0mset_email\u001b[0m\u001b[0;34m(\u001b[0m\u001b[0mself\u001b[0m\u001b[0;34m,\u001b[0m\u001b[0mnew_email\u001b[0m\u001b[0;34m)\u001b[0m\u001b[0;34m:\u001b[0m      \u001b[0;31m#setter method\u001b[0m\u001b[0;34m\u001b[0m\u001b[0;34m\u001b[0m\u001b[0m\n\u001b[1;32m     15\u001b[0m     \u001b[0;32mif\u001b[0m \u001b[0;32mnot\u001b[0m \u001b[0;34m\"@\"\u001b[0m \u001b[0;32min\u001b[0m \u001b[0mnew_email\u001b[0m\u001b[0;34m:\u001b[0m\u001b[0;34m\u001b[0m\u001b[0;34m\u001b[0m\u001b[0m\n\u001b[0;32m---> 16\u001b[0;31m       \u001b[0;32mraise\u001b[0m \u001b[0mException\u001b[0m\u001b[0;34m(\u001b[0m\u001b[0;34m\"Invalid email\"\u001b[0m\u001b[0;34m)\u001b[0m\u001b[0;34m\u001b[0m\u001b[0;34m\u001b[0m\u001b[0m\n\u001b[0m\u001b[1;32m     17\u001b[0m     \u001b[0mself\u001b[0m\u001b[0;34m.\u001b[0m\u001b[0m_email\u001b[0m\u001b[0;34m=\u001b[0m\u001b[0mnew_email\u001b[0m\u001b[0;34m.\u001b[0m\u001b[0mlower\u001b[0m\u001b[0;34m(\u001b[0m\u001b[0;34m)\u001b[0m\u001b[0;34m.\u001b[0m\u001b[0mstrip\u001b[0m\u001b[0;34m(\u001b[0m\u001b[0;34m)\u001b[0m\u001b[0;34m\u001b[0m\u001b[0;34m\u001b[0m\u001b[0m\n\u001b[1;32m     18\u001b[0m \u001b[0;34m\u001b[0m\u001b[0m\n",
            "\u001b[0;31mException\u001b[0m: Invalid email"
          ]
        }
      ]
    },
    {
      "cell_type": "code",
      "source": [
        "class Use:\n",
        "  def __init__(self,uname,email):\n",
        "    self.uname=uname\n",
        "    self._email=email.lower().strip()\n",
        "\n",
        "  @property              #property decorater\n",
        "  def email(self):       #creating an method with the same name of the attribute we want to give property for\n",
        "    return self._email\n",
        "\n"
      ],
      "metadata": {
        "id": "65_dP2uP8R5z"
      },
      "execution_count": 33,
      "outputs": []
    },
    {
      "cell_type": "code",
      "source": [
        "use1=Use(\"User1\",\"EMAIL1@gmail.com    \")"
      ],
      "metadata": {
        "id": "wIFrKJU09byV"
      },
      "execution_count": 22,
      "outputs": []
    },
    {
      "cell_type": "code",
      "source": [
        "use1.email               #looks like we are accessing the email but we are accessing the eamil property"
      ],
      "metadata": {
        "colab": {
          "base_uri": "https://localhost:8080/",
          "height": 36
        },
        "id": "j3J4vzRu9hF9",
        "outputId": "3ea98ec5-cd96-49d4-a4b5-127d0a375acd"
      },
      "execution_count": 24,
      "outputs": [
        {
          "output_type": "execute_result",
          "data": {
            "text/plain": [
              "'email1@gmail.com'"
            ],
            "application/vnd.google.colaboratory.intrinsic+json": {
              "type": "string"
            }
          },
          "metadata": {},
          "execution_count": 24
        }
      ]
    },
    {
      "cell_type": "markdown",
      "source": [
        "The advantage of using the property decorate is we can have simple things but later if we want to add some property like printing when email was accessed we can add a property, we don't have to worry about getters and setters intialy"
      ],
      "metadata": {
        "id": "I6kY8Dql_AMo"
      }
    },
    {
      "cell_type": "code",
      "source": [
        "use1.email=\"Trying to set email without setter property we get an error\""
      ],
      "metadata": {
        "colab": {
          "base_uri": "https://localhost:8080/",
          "height": 141
        },
        "id": "_U8lvJnb_Uri",
        "outputId": "e051d0e4-9669-44c5-b8d4-b3301a4126e1"
      },
      "execution_count": 25,
      "outputs": [
        {
          "output_type": "error",
          "ename": "AttributeError",
          "evalue": "property 'email' of 'Use' object has no setter",
          "traceback": [
            "\u001b[0;31m---------------------------------------------------------------------------\u001b[0m",
            "\u001b[0;31mAttributeError\u001b[0m                            Traceback (most recent call last)",
            "\u001b[0;32m/tmp/ipython-input-25-3951555964.py\u001b[0m in \u001b[0;36m<cell line: 0>\u001b[0;34m()\u001b[0m\n\u001b[0;32m----> 1\u001b[0;31m \u001b[0muse1\u001b[0m\u001b[0;34m.\u001b[0m\u001b[0memail\u001b[0m\u001b[0;34m=\u001b[0m\u001b[0;34m\"Trying to set email without setter property we get an error\"\u001b[0m\u001b[0;34m\u001b[0m\u001b[0;34m\u001b[0m\u001b[0m\n\u001b[0m",
            "\u001b[0;31mAttributeError\u001b[0m: property 'email' of 'Use' object has no setter"
          ]
        }
      ]
    },
    {
      "cell_type": "code",
      "source": [
        "class Usee:\n",
        "  def __init__(self,uname,email):\n",
        "    self.uname=uname\n",
        "    self._email=email.lower().strip()\n",
        "\n",
        "  @property              #property decorater\n",
        "  def email(self):       #creating an method with the same name of the attribute we want to give property for\n",
        "    return self._email\n",
        "\n",
        "  @email.setter           #property decorater for the email attribute\n",
        "  def email(self,new_email):\n",
        "    if not \"@\" in new_email:\n",
        "      raise Exception(\"Invalid email\")\n",
        "    self._email=new_email.lower().strip()"
      ],
      "metadata": {
        "id": "wIIK2RIjAn95"
      },
      "execution_count": 41,
      "outputs": []
    },
    {
      "cell_type": "code",
      "source": [
        "usee1=Use(\"User1\",\"EMAIL1@gmail.com    \")"
      ],
      "metadata": {
        "id": "qohowtAFAtKa"
      },
      "execution_count": 38,
      "outputs": []
    },
    {
      "cell_type": "code",
      "source": [
        "usee1.email=\"setter@gmail.com\""
      ],
      "metadata": {
        "id": "ipfWPerW_t8s"
      },
      "execution_count": 39,
      "outputs": []
    },
    {
      "cell_type": "code",
      "source": [
        "usee1.email"
      ],
      "metadata": {
        "colab": {
          "base_uri": "https://localhost:8080/",
          "height": 36
        },
        "id": "mFQV5fsGAwR4",
        "outputId": "4d879cc4-c03a-44c8-f485-96a07e916770"
      },
      "execution_count": 40,
      "outputs": [
        {
          "output_type": "execute_result",
          "data": {
            "text/plain": [
              "'setter@gmail.com'"
            ],
            "application/vnd.google.colaboratory.intrinsic+json": {
              "type": "string"
            }
          },
          "metadata": {},
          "execution_count": 40
        }
      ]
    },
    {
      "cell_type": "markdown",
      "source": [
        "Instance and Static attribute( which are shared among all the instance in a class)"
      ],
      "metadata": {
        "id": "VTA1M5abBBw7"
      }
    },
    {
      "cell_type": "code",
      "source": [
        "class Userr:\n",
        "  user_account=0   #static attribute (can be used for counters and count)\n",
        "  def __init__(self, username,email):   #instance attribute\n",
        "    self.username=username\n",
        "    self.email=email\n",
        "    Userr.user_account+=1\n",
        "\n",
        "  def display_user(self):\n",
        "    print(f\"username is {self.username} and email is {self.email}\")"
      ],
      "metadata": {
        "id": "nkA0X-DaBEgT"
      },
      "execution_count": 42,
      "outputs": []
    },
    {
      "cell_type": "code",
      "source": [
        "Userr1=Userr(\"user1\",\"email1\")\n",
        "Userr2=Userr(\"user2\",\"email2\")"
      ],
      "metadata": {
        "id": "C06wP_cwCXvq"
      },
      "execution_count": 43,
      "outputs": []
    },
    {
      "cell_type": "code",
      "source": [
        "print(Userr.user_account)"
      ],
      "metadata": {
        "colab": {
          "base_uri": "https://localhost:8080/"
        },
        "id": "DlqJNjDpCbJV",
        "outputId": "df7af693-a3fb-428e-e594-f55ecbd59c3d"
      },
      "execution_count": 44,
      "outputs": [
        {
          "output_type": "stream",
          "name": "stdout",
          "text": [
            "2\n"
          ]
        }
      ]
    },
    {
      "cell_type": "markdown",
      "source": [
        "Static and Instance mehtod"
      ],
      "metadata": {
        "id": "0-SZq6cCDXEg"
      }
    },
    {
      "cell_type": "code",
      "source": [
        "class BankAccount:\n",
        "  min_balance=100\n",
        "\n",
        "  def __init__(self, owner, balance=0):\n",
        "    self.owner = owner\n",
        "    self.balance = balance if balance >= BankAccount.min_balance else print(\"Invalid balance\")\n",
        "\n",
        "  def deposit(Self,amount):\n",
        "    if amount > 0:\n",
        "      Self.balance += amount\n",
        "      print(f\"Deposited {amount}. New balance is {Self.balance}\")\n",
        "    else:\n",
        "      print(\"Invalid deposit amount\")\n",
        "\n",
        "  @staticmethod         #static method which doesn't rely on an instance spefic data\n",
        "  def is_vail_intrest_rate(rate):\n",
        "    return 0<= rate <=5"
      ],
      "metadata": {
        "id": "CrDSxJqtDZ5M"
      },
      "execution_count": 47,
      "outputs": []
    },
    {
      "cell_type": "code",
      "source": [
        "account=BankAccount(\"user1\",100)\n",
        "account.deposit(1000)\n",
        "account.is_vail_intrest_rate(2)"
      ],
      "metadata": {
        "colab": {
          "base_uri": "https://localhost:8080/"
        },
        "id": "NzZD-23LEJcG",
        "outputId": "85221691-4f95-4a9a-e1db-78ba74edd1dc"
      },
      "execution_count": 48,
      "outputs": [
        {
          "output_type": "stream",
          "name": "stdout",
          "text": [
            "Deposited 1000. New balance is 1100\n"
          ]
        },
        {
          "output_type": "execute_result",
          "data": {
            "text/plain": [
              "True"
            ]
          },
          "metadata": {},
          "execution_count": 48
        }
      ]
    },
    {
      "cell_type": "code",
      "source": [
        "account.is_vail_intrest_rate(10)"
      ],
      "metadata": {
        "colab": {
          "base_uri": "https://localhost:8080/"
        },
        "id": "symMRmJqEpRM",
        "outputId": "5ecd1506-9b92-4bd9-dc17-3d1544e456ea"
      },
      "execution_count": 49,
      "outputs": [
        {
          "output_type": "execute_result",
          "data": {
            "text/plain": [
              "False"
            ]
          },
          "metadata": {},
          "execution_count": 49
        }
      ]
    },
    {
      "cell_type": "code",
      "source": [
        "account1=BankAccount(\"user2\")"
      ],
      "metadata": {
        "colab": {
          "base_uri": "https://localhost:8080/"
        },
        "id": "h_XxUcTGEru3",
        "outputId": "e1d86d6f-44f1-4d54-d7ab-0eb8394d4794"
      },
      "execution_count": 50,
      "outputs": [
        {
          "output_type": "stream",
          "name": "stdout",
          "text": [
            "Invalid balance\n"
          ]
        }
      ]
    },
    {
      "cell_type": "markdown",
      "source": [
        "OOPS Principles\n",
        "\n",
        "Encapsulation:Hiding the internal details of a class"
      ],
      "metadata": {
        "id": "4xCjzM8pgu_S"
      }
    },
    {
      "cell_type": "code",
      "source": [
        "class Badexample:\n",
        "  def __init__(self, balance):\n",
        "    self.balance=balance\n",
        "\n",
        "\n",
        "account=Badexample(0)\n",
        "account.balance= -1\n",
        "print(account.balance)"
      ],
      "metadata": {
        "colab": {
          "base_uri": "https://localhost:8080/"
        },
        "id": "bUFVKcS-gt9M",
        "outputId": "54d2f212-160d-40df-bbad-003e511af74c"
      },
      "execution_count": 1,
      "outputs": [
        {
          "output_type": "stream",
          "name": "stdout",
          "text": [
            "-1\n"
          ]
        }
      ]
    },
    {
      "cell_type": "markdown",
      "source": [
        "The above example is not ideal because an account cannot be negative, so we will set a accound with encapusulation"
      ],
      "metadata": {
        "id": "GESX2_GwhbcZ"
      }
    },
    {
      "cell_type": "code",
      "source": [
        "class Bankaccoun:\n",
        "  def __init__(self):\n",
        "    self._balance=0      # Protected attribute (convention: should not access directly)\n",
        "\n",
        "  @property              #The @property decorator makes get_balance behave like a read-only attribute, not a method.\n",
        "  def get_balance(self):\n",
        "    return self._balance\n",
        "\n",
        "  def deposit(self,amount):\n",
        "    if amount<=0:\n",
        "      raise ValueError(\"Deposit should be positive\")\n",
        "    else:\n",
        "      self._balance+=amount\n",
        "\n",
        "\n",
        "  def withdraw(self,amount):\n",
        "    if amount<=0:\n",
        "      raise ValueError(\"Withdraw should be positive\")\n",
        "    elif amount>self._balance:\n",
        "      raise ValueError(\"Insufficient balance\")\n",
        "    else:\n",
        "      self._balance-=amount\n",
        "\n",
        "account1=Bankaccoun()\n",
        "account1.deposit(100)\n",
        "print(account1.get_balance)\n",
        "account1.withdraw(10)\n",
        "print(account1.get_balance)\n"
      ],
      "metadata": {
        "colab": {
          "base_uri": "https://localhost:8080/"
        },
        "id": "QRmyqf8-i2rb",
        "outputId": "ab8d9f0b-6cc9-47b2-9062-5a85f3b614bf"
      },
      "execution_count": 9,
      "outputs": [
        {
          "output_type": "stream",
          "name": "stdout",
          "text": [
            "100\n",
            "90\n"
          ]
        }
      ]
    },
    {
      "cell_type": "markdown",
      "source": [
        "In the above example, we are applying encapsulation by hiding the internal data the balance using a protected attribute (_balance). External code cannot directly modify the balance. Instead, access is controlled through methods like deposit() and withdraw(), which apply necessary validation. This ensures that the internal state remains consistent and secure, without exposing how the balance is actually stored or updated."
      ],
      "metadata": {
        "id": "5_-RBPsXjuKQ"
      }
    },
    {
      "cell_type": "markdown",
      "source": [
        "Next is abstraction, it is used to reduce complexity by hiding unnecessary details"
      ],
      "metadata": {
        "id": "EmrRFmfilID_"
      }
    },
    {
      "cell_type": "code",
      "source": [
        "class email:\n",
        "  def _connect(self):\n",
        "    print(\"connecting\")\n",
        "\n",
        "  def _authenticate(self):\n",
        "    print(\"authenticating\")\n",
        "\n",
        "  def send_email(self):\n",
        "    self._connect()\n",
        "    self._authenticate()\n",
        "    print(\"sending email\")\n",
        "    self._disconnect()\n",
        "\n",
        "  def _disconnect(self):\n",
        "    print(\"disconnecting\")\n",
        "\n",
        "email1=email()\n",
        "email1.send_email()"
      ],
      "metadata": {
        "colab": {
          "base_uri": "https://localhost:8080/"
        },
        "id": "i888l_NulPhf",
        "outputId": "adf1334a-7fcb-4dff-f77a-06ed26b37235"
      },
      "execution_count": 12,
      "outputs": [
        {
          "output_type": "stream",
          "name": "stdout",
          "text": [
            "connecting\n",
            "authenticating\n",
            "sending email\n",
            "disconnecting\n"
          ]
        }
      ]
    },
    {
      "cell_type": "markdown",
      "source": [
        "Abstraction is achieved here by letting the user send an email with a single method (send_email()), while hiding the complex internal steps like connection, authentication, and disconnection. The user only sees what the method does, not how it does it.\n",
        "\n",
        "Encapsulation = Hiding what you have (like sensitive data)\n",
        "\n",
        "Abstraction = Hiding how it works (like the steps or inner logic)\n",
        "\n",
        "self._something → you're probably seeing encapsulation\n",
        "\n",
        "A method like do_task() that hides multiple steps → that's abstraction"
      ],
      "metadata": {
        "id": "CFBzO88Qm_nj"
      }
    },
    {
      "cell_type": "markdown",
      "source": [
        "Next is Inheritance, Creating a new class based on excisting classes"
      ],
      "metadata": {
        "id": "OqCI4ojinuPo"
      }
    },
    {
      "cell_type": "code",
      "source": [
        "class Vehicle:\n",
        "  def __init__(self,brand,model,year):\n",
        "    self.brand=brand\n",
        "    self.model=model\n",
        "    self.year=year\n",
        "\n",
        "  def start(self):\n",
        "    print(\"Vehicle is starting\")\n",
        "\n",
        "  def stop(sefl):\n",
        "    print(\"vehicle is stopping\")\n",
        "\n",
        "class Car(Vehicle):\n",
        "  def __init__(self,brand,model,year,color,number_od_doors):\n",
        "    super().__init__(brand,model,year)   #super is refering to the parent class\n",
        "    self.color=color\n",
        "    self.number_od_doors=number_od_doors\n",
        "\n",
        "  def drive(self):\n",
        "    print(\"Car is driving\")\n",
        "\n",
        "\n",
        "class Bike(Vehicle):\n",
        "  def __init__(Self,brand,model,year,color,number_od_wheels):\n",
        "    super().__init__(brand,model,year)\n",
        "    Self.color=color\n",
        "    Self.number_od_wheels=number_od_wheels\n",
        "\n",
        "car=Car(\"Toyota\",\"Camry\",2022,\"Blue\",4)\n",
        "car.start()\n",
        "car.drive()\n",
        "Bike=Bike(\"Honda\",\"CBR\",2022,\"Red\",2)\n",
        "Bike.start()\n",
        "\n",
        "print(dict(car.__dict__))\n",
        "print(dict(Bike.__dict__))"
      ],
      "metadata": {
        "colab": {
          "base_uri": "https://localhost:8080/"
        },
        "id": "CIBMAiD2ntHo",
        "outputId": "a8c460ed-0c5b-47dc-c39b-19c334641265"
      },
      "execution_count": 14,
      "outputs": [
        {
          "output_type": "stream",
          "name": "stdout",
          "text": [
            "Vehicle is starting\n",
            "Car is driving\n",
            "Vehicle is starting\n",
            "{'brand': 'Toyota', 'model': 'Camry', 'year': 2022, 'color': 'Blue', 'number_od_doors': 4}\n",
            "{'brand': 'Honda', 'model': 'CBR', 'year': 2022, 'color': 'Red', 'number_od_wheels': 2}\n"
          ]
        }
      ]
    },
    {
      "cell_type": "code",
      "source": [
        "print(Vehicle.start)"
      ],
      "metadata": {
        "colab": {
          "base_uri": "https://localhost:8080/"
        },
        "id": "AX7dA_M6q_JQ",
        "outputId": "01ccce77-ebc8-46de-b271-d1f409496419"
      },
      "execution_count": 17,
      "outputs": [
        {
          "output_type": "stream",
          "name": "stdout",
          "text": [
            "<function Vehicle.start at 0x7e2e53564ea0>\n"
          ]
        }
      ]
    },
    {
      "cell_type": "markdown",
      "source": [
        "Polymorphism, it means many forms. Ability of an object to take many forms"
      ],
      "metadata": {
        "id": "kL9JOgQYrqFA"
      }
    },
    {
      "cell_type": "code",
      "source": [
        "class Car:\n",
        "  def __init__(self, brand, model, year):\n",
        "    self.brand = brand\n",
        "    self.model = model\n",
        "    self.year = year\n",
        "\n",
        "  def drive(self):\n",
        "    print(f\"Driving a {self.year} {self.brand} {self.model}\")\n",
        "\n",
        "  def start(self):\n",
        "    print(\"Starting the car\")\n",
        "\n",
        "  def stop(self):\n",
        "    print(\"Stopping the car\")\n",
        "\n",
        "class Bike:\n",
        "  def __init__(self, brand, model, year):\n",
        "    self.brand = brand\n",
        "    self.model = model\n",
        "    self.year = year\n",
        "\n",
        "  def drive(self):\n",
        "    print(f\"Driving a {self.year} {self.brand} {self.model}\")\n",
        "\n",
        "  def start_bike(self):\n",
        "    print(\"Starting the bike\")\n",
        "\n",
        "  def stop_bike(self):\n",
        "    print(\"Stopping the bike\")\n",
        "\n",
        "Vehicles=[\n",
        "    Car(\"Toyota\", \"Camry\", 2022),\n",
        "  Bike(\"Honda\", \"CBR\", 2022)\n",
        "]\n",
        "\n",
        "#for vehicle in Vehicles:\n",
        "#  vehicle.drive()\n",
        "#  vehicle.start()\n",
        "#  vehicle.stop()"
      ],
      "metadata": {
        "colab": {
          "base_uri": "https://localhost:8080/",
          "height": 263
        },
        "id": "6lj7b1WZr5Kl",
        "outputId": "8b115467-7afd-4cb4-f844-bf01b3e6164a"
      },
      "execution_count": 18,
      "outputs": [
        {
          "output_type": "stream",
          "name": "stdout",
          "text": [
            "Driving a 2022 Toyota Camry\n",
            "Starting the car\n",
            "Stopping the car\n",
            "Driving a 2022 Honda CBR\n"
          ]
        },
        {
          "output_type": "error",
          "ename": "AttributeError",
          "evalue": "'Bike' object has no attribute 'start'",
          "traceback": [
            "\u001b[0;31m---------------------------------------------------------------------------\u001b[0m",
            "\u001b[0;31mAttributeError\u001b[0m                            Traceback (most recent call last)",
            "\u001b[0;32m/tmp/ipython-input-18-1670472017.py\u001b[0m in \u001b[0;36m<cell line: 0>\u001b[0;34m()\u001b[0m\n\u001b[1;32m     36\u001b[0m \u001b[0;32mfor\u001b[0m \u001b[0mvehicle\u001b[0m \u001b[0;32min\u001b[0m \u001b[0mVehicles\u001b[0m\u001b[0;34m:\u001b[0m\u001b[0;34m\u001b[0m\u001b[0;34m\u001b[0m\u001b[0m\n\u001b[1;32m     37\u001b[0m   \u001b[0mvehicle\u001b[0m\u001b[0;34m.\u001b[0m\u001b[0mdrive\u001b[0m\u001b[0;34m(\u001b[0m\u001b[0;34m)\u001b[0m\u001b[0;34m\u001b[0m\u001b[0;34m\u001b[0m\u001b[0m\n\u001b[0;32m---> 38\u001b[0;31m   \u001b[0mvehicle\u001b[0m\u001b[0;34m.\u001b[0m\u001b[0mstart\u001b[0m\u001b[0;34m(\u001b[0m\u001b[0;34m)\u001b[0m\u001b[0;34m\u001b[0m\u001b[0;34m\u001b[0m\u001b[0m\n\u001b[0m\u001b[1;32m     39\u001b[0m   \u001b[0mvehicle\u001b[0m\u001b[0;34m.\u001b[0m\u001b[0mstop\u001b[0m\u001b[0;34m(\u001b[0m\u001b[0;34m)\u001b[0m\u001b[0;34m\u001b[0m\u001b[0;34m\u001b[0m\u001b[0m\n",
            "\u001b[0;31mAttributeError\u001b[0m: 'Bike' object has no attribute 'start'"
          ]
        }
      ]
    },
    {
      "cell_type": "code",
      "source": [
        "for vehicle in Vehicles:\n",
        "  if isinstance(vehicle,Car):\n",
        "    vehicle.start()\n",
        "  elif isinstance(vehicle,Bike):\n",
        "    vehicle.start_bike()\n",
        "  else:\n",
        "    raise Exception(\"Invalid vehicle type\")"
      ],
      "metadata": {
        "colab": {
          "base_uri": "https://localhost:8080/"
        },
        "id": "pqiOjcy3thLk",
        "outputId": "a549b88f-3aba-4d45-fbf9-bdad6f2f8105"
      },
      "execution_count": 20,
      "outputs": [
        {
          "output_type": "stream",
          "name": "stdout",
          "text": [
            "Starting the car\n",
            "Starting the bike\n"
          ]
        }
      ]
    },
    {
      "cell_type": "markdown",
      "source": [
        "The above one is an bad example because if we add truck we need to create an seperate isinstacne for it even tho it is an vehicle"
      ],
      "metadata": {
        "id": "ZYu3PpuCufH8"
      }
    },
    {
      "cell_type": "code",
      "source": [
        "class Vehicle:\n",
        "  def __init__(self,brand,model,year):\n",
        "    self.brand=brand\n",
        "    self.model=model\n",
        "    self.year=year\n",
        "\n",
        "  def start(self):\n",
        "    print(\"Vehicle is starting\")\n",
        "\n",
        "  def stop(Self):\n",
        "    print(\"vehicle is stopping\")\n",
        "\n",
        "class Car(Vehicle):\n",
        "  def __init__(self,brand,model,year,color,number_od_doors):\n",
        "    super().__init__(brand,model,year)   #super is refering to the parent class\n",
        "    self.color=color\n",
        "    self.number_od_doors=number_od_doors\n",
        "\n",
        "  def drive(self):\n",
        "    print(\"Car is driving\")\n",
        "\n",
        "  def start(self):\n",
        "    print(\"Car is starting\")\n",
        "\n",
        "  def stop(Self):\n",
        "    print(\"Car is stopping\")\n",
        "\n",
        "\n",
        "\n",
        "class Bike(Vehicle):\n",
        "  def __init__(Self,brand,model,year,color,number_od_wheels):\n",
        "    super().__init__(brand,model,year)\n",
        "    Self.color=color\n",
        "    Self.number_od_wheels=number_od_wheels\n",
        "\n",
        "  def start(self):\n",
        "    print(\"bike is starting\")\n",
        "\n",
        "  def stop(Self):\n",
        "    print(\"bike is stopping\")\n",
        "\n",
        "Vehicles=[\n",
        "    Car(\"Toyota\", \"Camry\", 2022,\"red\",4),\n",
        "  Bike(\"Honda\", \"CBR\", 2022,\"Blue\", 2)\n",
        "]\n",
        "\n",
        "\n",
        "for vehicle in Vehicles:\n",
        "  if isinstance(vehicle,Vehicle):\n",
        "    vehicle.start()\n",
        "    vehicle.stop()\n",
        "  else:\n",
        "    raise Exception(\"Invalid vehicle type\")"
      ],
      "metadata": {
        "colab": {
          "base_uri": "https://localhost:8080/"
        },
        "id": "Q3usnLdgus3r",
        "outputId": "6ebcaf99-bab0-4f6a-8d07-0b41730bde74"
      },
      "execution_count": 24,
      "outputs": [
        {
          "output_type": "stream",
          "name": "stdout",
          "text": [
            "Car is starting\n",
            "Car is stopping\n",
            "bike is starting\n",
            "bike is stopping\n"
          ]
        }
      ]
    },
    {
      "cell_type": "markdown",
      "source": [
        "In the above example, polymorphism is demonstrated by defining a common method name (start() and stop()) in the parent class Vehicle and then overriding these methods in the child classes Car and Bike. When we loop through a list of Vehicle objects and call start() or stop(), each object responds according to its own class implementation, even though they are all treated as Vehicle. This allows us to use the same interface to perform different behaviors, depending on the object which is the essence of polymorphism."
      ],
      "metadata": {
        "id": "IrdJGlwFwwFu"
      }
    }
  ]
}